{
 "cells": [
  {
   "cell_type": "markdown",
   "metadata": {},
   "source": [
    "# Illinois Dashboard - Day 4"
   ]
  },
  {
   "cell_type": "markdown",
   "metadata": {},
   "source": [
    "#### Description\n",
    "\n",
    "In this notebook, you will add an additional non-trivial feature to your dashboard: the number jobs in \"new\"\n",
    "firms (created less than 5 years ago). The steps will be the following:\n",
    "- Write a SQL Query that creates that feature\n",
    "- Incorporate the feature into your dashboard"
   ]
  },
  {
   "cell_type": "markdown",
   "metadata": {},
   "source": [
    "## Python Setup"
   ]
  },
  {
   "cell_type": "code",
   "execution_count": null,
   "metadata": {},
   "outputs": [],
   "source": [
    "# Package for database connection\n",
    "from sqlalchemy import create_engine\n",
    "\n",
    "# Packages for data manipulation\n",
    "import pandas as pd\n",
    "import numpy as np\n",
    "import geopandas as gpd\n",
    "\n",
    "# Packages for visualizations\n",
    "import matplotlib.pyplot as plt\n",
    "import seaborn as sns\n",
    "\n",
    "# Ignore warnings. This is to prevent distracting notices of new packages that are unnecessary\n",
    "import warnings\n",
    "warnings.filterwarnings('ignore')"
   ]
  },
  {
   "cell_type": "code",
   "execution_count": null,
   "metadata": {},
   "outputs": [],
   "source": [
    "# Database connection\n",
    "engine = create_engine('postgresql://@10.10.2.10/appliedda')"
   ]
  },
  {
   "cell_type": "markdown",
   "metadata": {},
   "source": [
    "## SQL Exploration"
   ]
  },
  {
   "cell_type": "markdown",
   "metadata": {},
   "source": [
    "Let's start by taking a look at the data we have at our disposal:"
   ]
  },
  {
   "cell_type": "code",
   "execution_count": null,
   "metadata": {},
   "outputs": [],
   "source": [
    "# Dashboard Data (random sample)\n",
    "query = '''\n",
    "SELECT *\n",
    "FROM ada_18_uchi.dashboard_data_il_jobs_rs\n",
    "LIMIT 5;\n",
    "'''\n",
    "df = pd.read_sql(query, engine)"
   ]
  },
  {
   "cell_type": "code",
   "execution_count": null,
   "metadata": {},
   "outputs": [],
   "source": [
    "df.head()"
   ]
  },
  {
   "cell_type": "markdown",
   "metadata": {},
   "source": [
    "The table has variables `ein_start_year` and `ein_start_qtr` which designate the first quarter the EIN is observed in the data. For every observation, let's create a `new_employer` flag for whether or not the employer existed 5 years before the date of the observation. An employer is a new employer if the EIN's first occurrence was within the last 5 years, or 20 quarters."
   ]
  },
  {
   "cell_type": "code",
   "execution_count": null,
   "metadata": {},
   "outputs": [],
   "source": [
    "query = '''\n",
    "SELECT *, \n",
    "    (year-ein_start_year)*4 + (qtr - ein_start_qtr) as qtrs_of_existence,\n",
    "    CASE WHEN (year-ein_start_year)*4 + (qtr - ein_start_qtr) < 20 THEN 1 ELSE 0 END AS new_employer\n",
    "FROM ada_18_uchi.dashboard_data_il_jobs_rs\n",
    "LIMIT 5;\n",
    "'''\n",
    "df = pd.read_sql(query, engine)"
   ]
  },
  {
   "cell_type": "code",
   "execution_count": null,
   "metadata": {},
   "outputs": [],
   "source": [
    "df.head()"
   ]
  },
  {
   "cell_type": "markdown",
   "metadata": {},
   "source": [
    "One issue remains: XXX. Therefore all data from 2005, 2006, 2007, 2008, etc. are flagged as \"new employers\". We call this issue a right-hand side censorship problem.\n",
    "\n",
    "To avoid plotting false numbers, one solution is to exclude all observation from the first 5 years of data (all data before 2010). For subsequent data, there will be no doubt regarding whether the employer was created more or less than 5 years ago."
   ]
  },
  {
   "cell_type": "code",
   "execution_count": null,
   "metadata": {},
   "outputs": [],
   "source": [
    "query = '''\n",
    "SELECT *, \n",
    "    (year-ein_start_year)*4 + (qtr-ein_start_qtr) as qtrs_of_existence,\n",
    "    CASE WHEN year<2010 THEN 1 ELSE 0 END AS right_censorship_flag,\n",
    "    CASE WHEN ((year-ein_start_year)*4+(qtr-ein_start_qtr)<20 AND year>=2010) THEN 1 ELSE 0 END as new_employer \n",
    "FROM ada_18_uchi.dashboard_data_il_jobs_rs\n",
    "LIMIT 5;\n",
    "'''\n",
    "df = pd.read_sql(query, engine)"
   ]
  },
  {
   "cell_type": "code",
   "execution_count": null,
   "metadata": {
    "scrolled": false
   },
   "outputs": [],
   "source": [
    "df.head()"
   ]
  },
  {
   "cell_type": "markdown",
   "metadata": {},
   "source": [
    "## Query Metric for a Given Year"
   ]
  },
  {
   "cell_type": "markdown",
   "metadata": {},
   "source": [
    "Now that we have understood how to define this metric, let's query it for a given year (in this case, Q1 of 2012)."
   ]
  },
  {
   "cell_type": "code",
   "execution_count": null,
   "metadata": {},
   "outputs": [],
   "source": [
    "query = '''\n",
    "SELECT cnty\n",
    "    , count(*) as jobs\n",
    "    , avg(wage) as avg_wage\n",
    "    , sum(CASE WHEN ((year-ein_start_year)*4+(qtr-ein_start_qtr)<20 AND year>=2010) THEN 1 ELSE 0 END) as new_empr_jobs\n",
    "FROM ada_18_uchi.dashboard_data_il_jobs_rs\n",
    "WHERE year = 2012 AND qtr = 1\n",
    "GROUP BY cnty\n",
    "ORDER BY cnty\n",
    "'''\n",
    "df = pd.read_sql(query, engine)"
   ]
  },
  {
   "cell_type": "code",
   "execution_count": null,
   "metadata": {},
   "outputs": [],
   "source": [
    "df.head()"
   ]
  },
  {
   "cell_type": "markdown",
   "metadata": {},
   "source": [
    "## Incorporating in Dashboard"
   ]
  },
  {
   "cell_type": "markdown",
   "metadata": {},
   "source": [
    "Now that we have created this flag, let's add this flag to the previous `group by` query that we used to generate the dashboard. "
   ]
  },
  {
   "cell_type": "code",
   "execution_count": null,
   "metadata": {},
   "outputs": [],
   "source": [
    "count_qry = \"\"\"\n",
    "select cnty, \n",
    "    count(*) as jobs, \n",
    "    avg(wage) as avg_wage\n",
    "    \n",
    "    -- ADD QUERY FOR ADDITIONAL METRIC HERE\n",
    "    \n",
    "from ada_18_uchi.dashboard_data_il_jobs_rs\n",
    "where year = {y} and qtr = {q}\n",
    "group by cnty\n",
    "order by cnty\n",
    "\"\"\""
   ]
  },
  {
   "cell_type": "code",
   "execution_count": null,
   "metadata": {},
   "outputs": [],
   "source": [
    "change_qry = '''\n",
    "select a.cnty,\n",
    "    cast(b.jobs - a.jobs as decimal)/(a.jobs+1) as change_in_jobs_pct,\n",
    "    cast(b.avg_wage - a.avg_wage as decimal)/(a.avg_wage+1) as change_in_avg_wage_pct\n",
    "    \n",
    "    -- ADD QUERY FOR ADDITIONAL METRIC HERE\n",
    "    \n",
    "from(\n",
    "    select cnty, \n",
    "        count(*) as jobs, \n",
    "        avg(wage) as avg_wage\n",
    "        \n",
    "        -- ADD QUERY FOR ADDITIONAL METRIC HERE\n",
    "        \n",
    "    from ada_18_uchi.dashboard_data_il_jobs_rs\n",
    "    where year = {y0} and qtr = {q0} \n",
    "    group by cnty\n",
    ") as a\n",
    "full join (\n",
    "    select cnty, \n",
    "        count(*) as jobs, \n",
    "        avg(wage) as avg_wage\n",
    "        \n",
    "        -- ADD QUERY FOR ADDITIONAL METRIC HERE\n",
    "        \n",
    "    from ada_18_uchi.dashboard_data_il_jobs_rs\n",
    "    where year = {y1} and qtr = {q1}\n",
    "    group by cnty\n",
    ") as b\n",
    "on a.cnty = b.cnty\n",
    "order by cnty\n",
    "'''"
   ]
  },
  {
   "cell_type": "code",
   "execution_count": null,
   "metadata": {},
   "outputs": [],
   "source": [
    "# Import Dashboard Functions\n",
    "from ui import DashUI"
   ]
  },
  {
   "cell_type": "code",
   "execution_count": null,
   "metadata": {},
   "outputs": [],
   "source": [
    "# Define metrics to plot\n",
    "statefp = '17' # 17 is statefp for Illinois\n",
    "list_of_metrics = {'Jobs': 'jobs'\n",
    "                   , 'Average Quarterly Earnings': 'avg_wage'\n",
    "\n",
    "                   # Insert additional metric for New Jobs\n",
    "                   \n",
    "                  }"
   ]
  },
  {
   "cell_type": "code",
   "execution_count": null,
   "metadata": {},
   "outputs": [],
   "source": [
    "# Create Dashboard\n",
    "dash = DashUI(statefp, list_of_metrics, count_qry, change_qry)"
   ]
  },
  {
   "cell_type": "code",
   "execution_count": null,
   "metadata": {},
   "outputs": [],
   "source": [
    "# Display the input panel and the output of the dashboard\n",
    "display(dash.input_panel)\n",
    "display(dash.output)"
   ]
  },
  {
   "cell_type": "markdown",
   "metadata": {},
   "source": [
    "### Task 1\n",
    "\n",
    "Save the two queries you have written above as `.sql` files in your personal folder."
   ]
  },
  {
   "cell_type": "code",
   "execution_count": null,
   "metadata": {},
   "outputs": [],
   "source": []
  }
 ],
 "metadata": {
  "kernelspec": {
   "display_name": "py2-dashboard",
   "language": "python",
   "name": "py2-dashboard"
  },
  "language_info": {
   "codemirror_mode": {
    "name": "ipython",
    "version": 2
   },
   "file_extension": ".py",
   "mimetype": "text/x-python",
   "name": "python",
   "nbconvert_exporter": "python",
   "pygments_lexer": "ipython2",
   "version": "2.7.12"
  },
  "toc": {
   "nav_menu": {},
   "number_sections": false,
   "sideBar": true,
   "skip_h1_title": false,
   "toc_cell": false,
   "toc_position": {},
   "toc_section_display": "block",
   "toc_window_display": false
  }
 },
 "nbformat": 4,
 "nbformat_minor": 2
}
