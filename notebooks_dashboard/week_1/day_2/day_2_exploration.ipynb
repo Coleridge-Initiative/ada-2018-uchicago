{
 "cells": [
  {
   "cell_type": "markdown",
   "metadata": {},
   "source": [
    "# Illinois Dashboard - Day 2: Exploration"
   ]
  },
  {
   "cell_type": "markdown",
   "metadata": {},
   "source": [
    "#### Description\n",
    "\n",
    "Before begining to build the Illinois Dashboard, it is important to understand the underlying data and assumptions that are made. In this notebook, you will visualize some summary statistics from the Illinois Wage Records data. Your notebook will teach you to do the following:\n",
    "\n",
    "- Queries economic data from a database using SQL.\n",
    "- Visualize data using bar charts, pie charts, and other plots."
   ]
  },
  {
   "cell_type": "markdown",
   "metadata": {},
   "source": [
    "## Python Setup"
   ]
  },
  {
   "cell_type": "markdown",
   "metadata": {},
   "source": [
    "Before writing any of the code for queries or plotting, you'll need to import the necessary Python packages. Afterwards, you'll create a connection to the database from which you will query the data."
   ]
  },
  {
   "cell_type": "code",
   "execution_count": null,
   "metadata": {},
   "outputs": [],
   "source": [
    "# Package for database connection\n",
    "from sqlalchemy import create_engine\n",
    "\n",
    "# Packages for data manipulation\n",
    "import pandas as pd\n",
    "import numpy as np\n",
    "import geopandas as gpd\n",
    "\n",
    "# Packages for visualizations\n",
    "import matplotlib.pyplot as plt\n",
    "import seaborn as sns\n",
    "\n",
    "# Ignore warnings. This is to prevent distracting notices of new packages that are unnecessary\n",
    "import warnings\n",
    "warnings.filterwarnings('ignore')"
   ]
  },
  {
   "cell_type": "code",
   "execution_count": null,
   "metadata": {},
   "outputs": [],
   "source": [
    "# Database connection\n",
    "engine = create_engine('postgresql://@10.10.2.10/appliedda')"
   ]
  },
  {
   "cell_type": "code",
   "execution_count": null,
   "metadata": {},
   "outputs": [],
   "source": []
  },
  {
   "cell_type": "markdown",
   "metadata": {},
   "source": [
    "## Summary Statistics\n",
    "\n",
    "In the rest of the notebook, we will generate summary statistics related to several economic metrics (wage levels, job geography, etc). Due to the large size of the overall data, you will be working off of a random sample (`ada_18_uchi.dashboard_data_il_jobs_rs` instead of `ada_18_uchi.dashboard_data_il_jobs`)."
   ]
  },
  {
   "cell_type": "markdown",
   "metadata": {},
   "source": [
    "### Wage Distribution in a Quarter\n",
    "\n",
    "We will start by looking at the distribution of wages at a given year and quarter."
   ]
  },
  {
   "cell_type": "code",
   "execution_count": null,
   "metadata": {},
   "outputs": [],
   "source": [
    "query = '''\n",
    "SELECT *\n",
    "FROM ada_18_uchi.dashboard_data_il_jobs_rs\n",
    "WHERE year = 2010 AND qtr = 1\n",
    "'''\n",
    "df = pd.read_sql(query, engine)"
   ]
  },
  {
   "cell_type": "code",
   "execution_count": null,
   "metadata": {},
   "outputs": [],
   "source": [
    "# Make a simple histogram:\n",
    "plt.hist(df['wage'])\n",
    "plt.show()"
   ]
  },
  {
   "cell_type": "markdown",
   "metadata": {},
   "source": [
    "The chart only shows us one bar. What is the distribution of our data? "
   ]
  },
  {
   "cell_type": "code",
   "execution_count": null,
   "metadata": {},
   "outputs": [],
   "source": [
    "df['wage'].describe(percentiles = [.01, .1, .25, .5, .75, .9, .99])"
   ]
  },
  {
   "cell_type": "markdown",
   "metadata": {},
   "source": [
    "Since the distribution of average wages is very skewed to the right, let's limit our data to job wages under $25,000 a quarter."
   ]
  },
  {
   "cell_type": "code",
   "execution_count": null,
   "metadata": {},
   "outputs": [],
   "source": [
    "# Restrict df\n",
    "df_lim = df[(df['wage'] <= 25000)]\n",
    "\n",
    "# Bar chart\n",
    "plt.hist(df_lim['wage'])\n",
    "plt.show()"
   ]
  },
  {
   "cell_type": "code",
   "execution_count": null,
   "metadata": {},
   "outputs": [],
   "source": [
    "## We can change options within the hist function (e.g. number of bins, color, transparency:\n",
    "plt.hist(df_lim['wage'], bins=20, facecolor=\"purple\", alpha=0.5)\n",
    "\n",
    "## And we can affect the plot options too:\n",
    "plt.xlabel('Monthly Wage')\n",
    "plt.ylabel('Number of Jobs')\n",
    "plt.title('Most Jobs Earn Pay $15,000 per Quarter')\n",
    "\n",
    "## And add Data sourcing:\n",
    "### xy are measured in percent of axes length, from bottom left of graph:\n",
    "plt.annotate('Source: MO Department of Labor', xy=(0.7,-0.2), xycoords=\"axes fraction\")\n",
    "\n",
    "## We use plt.show() to display the graph once we are done setting options:\n",
    "plt.show()"
   ]
  },
  {
   "cell_type": "markdown",
   "metadata": {},
   "source": [
    "An alternative is to define manually the wage buckets. This step can be done either in the SQL query, or after the data has been read into a Python dataframe. For this example, we will write the query in SQL."
   ]
  },
  {
   "cell_type": "code",
   "execution_count": null,
   "metadata": {},
   "outputs": [],
   "source": [
    "query = '''\n",
    "SELECT ssn, wage\n",
    "    , case when wage = 0 or wage is null then '0. Missing wage'\n",
    "        when wage < 10000 then '1. Under \\$10,000'\n",
    "        when wage < 20000 then '2. \\$10,000 to \\$19,999'\n",
    "        when wage < 30000 then '3. \\$20,000 to \\$29,999'\n",
    "        when wage < 40000 then '4. \\$30,000 to \\$39,999'\n",
    "        when wage < 50000 then '5. \\$40,000 to \\$49,999'\n",
    "        when wage >= 50000 then '6. \\$50,000 and above'\n",
    "        end as wage_bucket\n",
    "FROM ada_18_uchi.dashboard_data_il_jobs_rs\n",
    "WHERE year = 2010 AND qtr = 1\n",
    "'''\n",
    "df = pd.read_sql(query, engine)"
   ]
  },
  {
   "cell_type": "code",
   "execution_count": null,
   "metadata": {
    "scrolled": true
   },
   "outputs": [],
   "source": [
    "freq = df['wage_bucket'].value_counts().reset_index()\n",
    "freq"
   ]
  },
  {
   "cell_type": "code",
   "execution_count": null,
   "metadata": {},
   "outputs": [],
   "source": [
    "freq = freq.sort_values('index')\n",
    "freq['index'] = freq['index'].str[2:]"
   ]
  },
  {
   "cell_type": "code",
   "execution_count": null,
   "metadata": {
    "scrolled": false
   },
   "outputs": [],
   "source": [
    "sns.barplot(x = 'index', y = 'wage_bucket', data = freq)\n",
    "\n",
    "plt.xticks(rotation=30)\n",
    "plt.xlabel('Quarterly Job Wage')\n",
    "plt.ylabel('Number of Jobs')\n",
    "plt.title('Most Jobs Pay Under $10,000 per Quarter')\n",
    "plt.annotate('Source: IL Department of Employment Security', xy=(0.4, -0.35), xycoords=\"axes fraction\")\n",
    "\n",
    "plt.show()"
   ]
  },
  {
   "cell_type": "markdown",
   "metadata": {},
   "source": [
    "One can also choose to plot this information using a pie-chart."
   ]
  },
  {
   "cell_type": "code",
   "execution_count": null,
   "metadata": {},
   "outputs": [],
   "source": [
    "plt.pie(freq['wage_bucket'], labels = freq['index'])\n",
    "\n",
    "plt.axis('equal')\n",
    "plt.title('Most Jobs Pay Under $10,000 per Quarter')\n",
    "plt.annotate('Source: IL Department of Employment Security', xy=(0.4, -0.1), xycoords=\"axes fraction\")\n",
    "\n",
    "plt.show()"
   ]
  },
  {
   "cell_type": "markdown",
   "metadata": {},
   "source": [
    "### Wage Levels over Time"
   ]
  },
  {
   "cell_type": "markdown",
   "metadata": {},
   "source": [
    "Now, let's plot the average job wage and the average worker earnings (combining several jobs) over time. "
   ]
  },
  {
   "cell_type": "code",
   "execution_count": null,
   "metadata": {},
   "outputs": [],
   "source": [
    "# Average Job Wage over time:\n",
    "query = '''\n",
    "SELECT year, qtr, avg(wage) as avg_wage\n",
    "FROM ada_18_uchi.dashboard_data_il_jobs_rs\n",
    "GROUP BY year, qtr\n",
    "ORDER BY year, qtr\n",
    "'''\n",
    "df = pd.read_sql(query, engine)"
   ]
  },
  {
   "cell_type": "code",
   "execution_count": null,
   "metadata": {
    "scrolled": true
   },
   "outputs": [],
   "source": [
    "df.head()"
   ]
  },
  {
   "cell_type": "code",
   "execution_count": null,
   "metadata": {},
   "outputs": [],
   "source": [
    "df['year_qtr'] = df['year'].astype(str)+\"-Q\"+df['qtr'].astype(str)"
   ]
  },
  {
   "cell_type": "code",
   "execution_count": null,
   "metadata": {
    "scrolled": false
   },
   "outputs": [],
   "source": [
    "## Simple line chart:\n",
    "sns.tsplot(data=df['avg_wage'])\n",
    "\n",
    "plt.xlabel('Time')\n",
    "plt.ylabel('Average Job Wage')\n",
    "plt.title('The average wage per job has increased over the last 10 years')\n",
    "plt.annotate('Source: IL Department of Employment Security', xy=(0.4, -0.2), xycoords=\"axes fraction\")\n",
    "\n",
    "plt.show()"
   ]
  },
  {
   "cell_type": "markdown",
   "metadata": {},
   "source": [
    "Notice the strong cyclical trend of earnings: Q1 and Q4 have systematically higher earnings than the others. Keep this in mind when you compare quarters across time.  "
   ]
  },
  {
   "cell_type": "markdown",
   "metadata": {},
   "source": [
    "## County Information"
   ]
  },
  {
   "cell_type": "markdown",
   "metadata": {},
   "source": [
    "Now, let's see how many observations have geographic information. Since we will be plotting jobs on county-level for the dashboard, let's look at how well the county variable (`cnty`) is populated."
   ]
  },
  {
   "cell_type": "code",
   "execution_count": null,
   "metadata": {},
   "outputs": [],
   "source": [
    "# In Q1 of 2010:\n",
    "query = '''\n",
    "SELECT cnty, count(*) as count\n",
    "FROM ada_18_uchi.dashboard_data_il_jobs_rs\n",
    "WHERE year = 2010 AND qtr = 1\n",
    "GROUP BY cnty\n",
    "ORDER BY cnty\n",
    "'''\n",
    "df = pd.read_sql(query, engine)"
   ]
  },
  {
   "cell_type": "markdown",
   "metadata": {},
   "source": [
    "Let's take a look at the dataframe:"
   ]
  },
  {
   "cell_type": "code",
   "execution_count": null,
   "metadata": {},
   "outputs": [],
   "source": [
    "df.head()"
   ]
  },
  {
   "cell_type": "markdown",
   "metadata": {},
   "source": [
    "Looks good! Let's take a look at the last rows:"
   ]
  },
  {
   "cell_type": "code",
   "execution_count": null,
   "metadata": {},
   "outputs": [],
   "source": [
    "df.tail()"
   ]
  },
  {
   "cell_type": "markdown",
   "metadata": {},
   "source": [
    "Unfortunately, not all county codes here are relevant: some observations have no county code (`None`), and a large number have a default code that will not be mapped to anything (`999`). These observations will not be included in the dashboard.\n",
    "\n",
    "Let's try for another year of data (2005 Q1):"
   ]
  },
  {
   "cell_type": "code",
   "execution_count": null,
   "metadata": {},
   "outputs": [],
   "source": [
    "# In Q1 of 2005:\n",
    "query = '''\n",
    "SELECT cnty, count(*) as count\n",
    "FROM ada_18_uchi.dashboard_data_il_jobs_rs\n",
    "WHERE year = 2005 AND qtr = 1\n",
    "GROUP BY cnty\n",
    "ORDER BY cnty\n",
    "'''\n",
    "df = pd.read_sql(query, engine)"
   ]
  },
  {
   "cell_type": "code",
   "execution_count": null,
   "metadata": {},
   "outputs": [],
   "source": [
    "df.head()"
   ]
  },
  {
   "cell_type": "markdown",
   "metadata": {},
   "source": [
    "In this case, non of the data has county information. The dashboard will be completely empty for this quarter."
   ]
  }
 ],
 "metadata": {
  "kernelspec": {
   "display_name": "Python 2",
   "language": "python",
   "name": "python2"
  },
  "language_info": {
   "codemirror_mode": {
    "name": "ipython",
    "version": 2
   },
   "file_extension": ".py",
   "mimetype": "text/x-python",
   "name": "python",
   "nbconvert_exporter": "python",
   "pygments_lexer": "ipython2",
   "version": "2.7.12"
  },
  "toc": {
   "nav_menu": {},
   "number_sections": false,
   "sideBar": true,
   "skip_h1_title": false,
   "toc_cell": false,
   "toc_position": {},
   "toc_section_display": "block",
   "toc_window_display": false
  }
 },
 "nbformat": 4,
 "nbformat_minor": 2
}
