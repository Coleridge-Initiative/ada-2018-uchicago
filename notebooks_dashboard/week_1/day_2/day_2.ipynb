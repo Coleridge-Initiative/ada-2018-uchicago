{
 "cells": [
  {
   "cell_type": "markdown",
   "metadata": {},
   "source": [
    "# Illinois Dashboard - Day 2"
   ]
  },
  {
   "cell_type": "markdown",
   "metadata": {},
   "source": [
    "#### Description\n",
    "\n",
    "In this notebook, you will begin buidling the fundamental components of the Illinois Dashboard. At the end, you will have a notebook that does the following:\n",
    "\n",
    "- Queries economic data from a database using SQL\n",
    "- Creates a static, geospatial plot of the data"
   ]
  },
  {
   "cell_type": "markdown",
   "metadata": {},
   "source": [
    "## Python Setup"
   ]
  },
  {
   "cell_type": "markdown",
   "metadata": {},
   "source": [
    "Before writing any of the code for queries or plotting, you'll need to import the necessary Python packages. Afterwards, you'll create a connection to the database from which you will query the data."
   ]
  },
  {
   "cell_type": "code",
   "execution_count": null,
   "metadata": {},
   "outputs": [],
   "source": [
    "# Package for database connection\n",
    "from sqlalchemy import create_engine\n",
    "\n",
    "# Packages for data manipulation\n",
    "import pandas as pd\n",
    "import numpy as np\n",
    "import geopandas as gpd\n",
    "\n",
    "# Packages for visualizations\n",
    "import matplotlib.pyplot as plt\n",
    "import seaborn as sns\n",
    "\n",
    "# Ignore warnings. This is to prevent distracting notices of new packages that are unnecessary\n",
    "import warnings\n",
    "warnings.filterwarnings('ignore')"
   ]
  },
  {
   "cell_type": "code",
   "execution_count": null,
   "metadata": {},
   "outputs": [],
   "source": [
    "# Database connection\n",
    "engine = create_engine('postgresql://@10.10.2.10/appliedda')"
   ]
  },
  {
   "cell_type": "markdown",
   "metadata": {},
   "source": [
    "## Geographic Components with `geopandas`"
   ]
  },
  {
   "cell_type": "markdown",
   "metadata": {},
   "source": [
    "### Get County Shapes"
   ]
  },
  {
   "cell_type": "code",
   "execution_count": null,
   "metadata": {},
   "outputs": [],
   "source": [
    "### statefp: 17 for IL ###\n",
    "qry = \"\"\"\n",
    "SELECT countyfp, name,\n",
    "    ST_Transform(geom, 102698) geom \n",
    "FROM tl_2016_us_county \n",
    "WHERE statefp = '17'\n",
    "\"\"\"\n",
    "counties = gpd.read_postgis(qry, engine, geom_col='geom')\n",
    "counties['coords'] = counties.geometry.apply(lambda x: x.representative_point().coords[0])"
   ]
  },
  {
   "cell_type": "markdown",
   "metadata": {},
   "source": [
    "## Number of Jobs"
   ]
  },
  {
   "cell_type": "markdown",
   "metadata": {},
   "source": [
    "### Query Data"
   ]
  },
  {
   "cell_type": "code",
   "execution_count": null,
   "metadata": {},
   "outputs": [],
   "source": [
    "# The code below pulls from the entire wage data - it will take a while to run.\n",
    "# One person from your group can run it but in what follows, use the Random Sample table.\n",
    "\n",
    "# qry = \"\"\"\n",
    "# select cnty, count(*) as jobs\n",
    "# from ada_18_uchi.dashboard_data_il\n",
    "# where year = 2006 and qtr = 1\n",
    "# group by cnty\n",
    "# \"\"\"\n",
    "# df = pd.read_sql(qry, engine)"
   ]
  },
  {
   "cell_type": "code",
   "execution_count": null,
   "metadata": {},
   "outputs": [],
   "source": [
    "qry = \"\"\"\n",
    "select cnty, count(*) as jobs\n",
    "from ada_18_uchi.dashboard_data_il_jobs_rs\n",
    "where year = 2006 and qtr = 1\n",
    "group by cnty\n",
    "order by cnty\n",
    "\"\"\"\n",
    "df = pd.read_sql(qry, engine)"
   ]
  },
  {
   "cell_type": "code",
   "execution_count": null,
   "metadata": {},
   "outputs": [],
   "source": [
    "df.head()"
   ]
  },
  {
   "cell_type": "code",
   "execution_count": null,
   "metadata": {},
   "outputs": [],
   "source": [
    "df.tail()"
   ]
  },
  {
   "cell_type": "markdown",
   "metadata": {},
   "source": [
    "Keep in mind that this is a random sample of the overall data: numbers here are much lower than the actual number of jobs in these counties."
   ]
  },
  {
   "cell_type": "markdown",
   "metadata": {},
   "source": [
    "### Merge with County Shapefile"
   ]
  },
  {
   "cell_type": "code",
   "execution_count": null,
   "metadata": {},
   "outputs": [],
   "source": [
    "cnty_df = pd.merge(counties, df, left_on=['countyfp'], right_on=['cnty'])"
   ]
  },
  {
   "cell_type": "code",
   "execution_count": null,
   "metadata": {},
   "outputs": [],
   "source": [
    "cnty_df.head()"
   ]
  },
  {
   "cell_type": "markdown",
   "metadata": {},
   "source": [
    "### Plot"
   ]
  },
  {
   "cell_type": "code",
   "execution_count": null,
   "metadata": {},
   "outputs": [],
   "source": [
    "# Configure plot settings\n",
    "sns.set_style('white')\n",
    "f, ax = plt.subplots(1, figsize=(6,8))\n",
    "colmap = sns.cubehelix_palette(8, start=2.9, rot=0, dark=.1, light=.95, as_cmap=True)\n",
    "cnty_df.plot('jobs', ax=ax, legend=True, edgecolor='black', cmap=colmap)\n",
    "ax.axis('off')\n",
    "plt.show()"
   ]
  },
  {
   "cell_type": "markdown",
   "metadata": {},
   "source": [
    "## Average Earnings"
   ]
  },
  {
   "cell_type": "markdown",
   "metadata": {},
   "source": [
    "### Query Data"
   ]
  },
  {
   "cell_type": "code",
   "execution_count": null,
   "metadata": {},
   "outputs": [],
   "source": [
    "qry = \"\"\"\n",
    "select cnty, avg(wage) as avg_wage\n",
    "from ada_18_uchi.dashboard_data_il_jobs_rs\n",
    "where year = 2006 and qtr = 1\n",
    "group by cnty\n",
    "order by cnty\n",
    "\"\"\"\n",
    "df = pd.read_sql(qry, engine)"
   ]
  },
  {
   "cell_type": "code",
   "execution_count": null,
   "metadata": {},
   "outputs": [],
   "source": [
    "df.head()"
   ]
  },
  {
   "cell_type": "markdown",
   "metadata": {},
   "source": [
    "### Merge with County Shapefile"
   ]
  },
  {
   "cell_type": "code",
   "execution_count": null,
   "metadata": {},
   "outputs": [],
   "source": [
    "cnty_df = pd.merge(counties, df, left_on=['countyfp'], right_on=['cnty'])"
   ]
  },
  {
   "cell_type": "markdown",
   "metadata": {},
   "source": [
    "### Plot"
   ]
  },
  {
   "cell_type": "code",
   "execution_count": null,
   "metadata": {},
   "outputs": [],
   "source": [
    "# Configure plot settings\n",
    "sns.set_style('white')\n",
    "f, ax = plt.subplots(1, figsize=(6,8))\n",
    "colmap = sns.cubehelix_palette(8, start=2.9, rot=0, dark=.1, light=.95, as_cmap=True)\n",
    "cnty_df.plot('avg_wage', ax=ax, legend=True, edgecolor='black', cmap=colmap)\n",
    "ax.axis('off')\n",
    "plt.show()"
   ]
  },
  {
   "cell_type": "markdown",
   "metadata": {},
   "source": [
    "## Task 1\n",
    "Using the above code, generate the plot visualizing the **number of jobs** by county **in Q3 of 2013**. \n",
    "\n",
    "Save the plot to your personal folder in the `Projects/ada_18_uchi/user/` folder."
   ]
  },
  {
   "cell_type": "code",
   "execution_count": null,
   "metadata": {},
   "outputs": [],
   "source": [
    "# Query:\n",
    "\n",
    "\n",
    "\n"
   ]
  },
  {
   "cell_type": "code",
   "execution_count": null,
   "metadata": {},
   "outputs": [],
   "source": [
    "# Merge County Shapefile\n",
    "\n",
    "\n",
    "\n"
   ]
  },
  {
   "cell_type": "code",
   "execution_count": null,
   "metadata": {},
   "outputs": [],
   "source": [
    "# Plot\n",
    "\n",
    "\n",
    "\n",
    "# Save plot to your personal folder."
   ]
  },
  {
   "cell_type": "markdown",
   "metadata": {},
   "source": [
    "## Change in Number of Jobs\n",
    "\n",
    "After observing the number of jobs in a given quarter, let's see how the number of jobs per county changed between two quarter: in this case, between Q1 of 2007 and Q1 of 2009."
   ]
  },
  {
   "cell_type": "markdown",
   "metadata": {},
   "source": [
    "### Query Data"
   ]
  },
  {
   "cell_type": "code",
   "execution_count": null,
   "metadata": {},
   "outputs": [],
   "source": [
    "qry = '''\n",
    "select a.cnty\n",
    "    , a.jobs as jobs_a\n",
    "    , b.jobs as jobs_b\n",
    "    , b.jobs - a.jobs as change_in_jobs\n",
    "    , (b.jobs - a.jobs)/a.jobs as change_in_jobs_pct\n",
    "from(\n",
    "    select cnty, count(*) as jobs\n",
    "    from ada_18_uchi.dashboard_data_il_jobs_rs\n",
    "    where year = 2007 and qtr = 1 \n",
    "    group by cnty\n",
    ") as a\n",
    "full join (\n",
    "    select cnty, count(*) as jobs\n",
    "    from ada_18_uchi.dashboard_data_il_jobs_rs\n",
    "    where year = 2009 and qtr = 1 \n",
    "    group by cnty\n",
    ") as b\n",
    "on a.cnty = b.cnty\n",
    "order by cnty\n",
    "'''\n",
    "df = pd.read_sql(qry, engine)"
   ]
  },
  {
   "cell_type": "code",
   "execution_count": null,
   "metadata": {},
   "outputs": [],
   "source": [
    "df.head()"
   ]
  },
  {
   "cell_type": "markdown",
   "metadata": {},
   "source": [
    "Does the above data look correct?\n",
    "\n",
    "> The `change_in_jobs_pct` variables is yielding unexpected results (only whole numbers). This is because SQL is supposing that an operation (a division, in this case) between two integers is an integer. In order to get the correct results, we have to `cast` at least one of the two it as a `decimal`."
   ]
  },
  {
   "cell_type": "code",
   "execution_count": null,
   "metadata": {},
   "outputs": [],
   "source": [
    "qry = '''\n",
    "select a.cnty\n",
    "    , a.jobs as jobs_a\n",
    "    , b.jobs as jobs_b\n",
    "    , b.jobs - a.jobs as change_in_jobs\n",
    "    , cast(b.jobs - a.jobs as decimal)/a.jobs as change_in_jobs_pct\n",
    "from(\n",
    "    select cnty, count(*) as jobs\n",
    "    from ada_18_uchi.dashboard_data_il_jobs_rs\n",
    "    where year = 2007 and qtr = 1 \n",
    "    group by cnty\n",
    ") as a\n",
    "full join (\n",
    "    select cnty, count(*) as jobs\n",
    "    from ada_18_uchi.dashboard_data_il_jobs_rs\n",
    "    where year = 2009 and qtr = 1 \n",
    "    group by cnty\n",
    ") as b\n",
    "on a.cnty = b.cnty\n",
    "order by cnty\n",
    "'''\n",
    "df = pd.read_sql(qry, engine)"
   ]
  },
  {
   "cell_type": "code",
   "execution_count": null,
   "metadata": {},
   "outputs": [],
   "source": [
    "df.head()"
   ]
  },
  {
   "cell_type": "markdown",
   "metadata": {},
   "source": [
    "That's more like it!"
   ]
  },
  {
   "cell_type": "markdown",
   "metadata": {},
   "source": [
    "### Merge with County Shapefile"
   ]
  },
  {
   "cell_type": "code",
   "execution_count": null,
   "metadata": {},
   "outputs": [],
   "source": [
    "cnty_df = pd.merge(counties, df, left_on=['countyfp'], right_on=['cnty'])"
   ]
  },
  {
   "cell_type": "markdown",
   "metadata": {},
   "source": [
    "### Plot"
   ]
  },
  {
   "cell_type": "code",
   "execution_count": null,
   "metadata": {},
   "outputs": [],
   "source": [
    "# Configure plot settings\n",
    "sns.set_style('white')\n",
    "f, ax = plt.subplots(1, figsize=(6,8))\n",
    "colmap = sns.cubehelix_palette(8, start=2.9, rot=0, dark=.1, light=.95, as_cmap=True)\n",
    "cnty_df.plot('change_in_jobs_pct', ax=ax, legend=True, edgecolor='black', cmap=colmap)\n",
    "ax.axis('off')\n",
    "plt.show()"
   ]
  },
  {
   "cell_type": "markdown",
   "metadata": {},
   "source": [
    "## Task 2\n",
    "Using the above code, generate the plot visualizing the **change in number of jobs** by county **between Q2 of 2010 and Q3 of 2013**. \n",
    "\n",
    "Save the plot to your personal folder in the `Projects/ada_18_uchi/user/` folder."
   ]
  },
  {
   "cell_type": "code",
   "execution_count": null,
   "metadata": {},
   "outputs": [],
   "source": [
    "# Query:\n",
    "\n",
    "\n",
    "\n"
   ]
  },
  {
   "cell_type": "code",
   "execution_count": null,
   "metadata": {},
   "outputs": [],
   "source": [
    "# Merge County Shapefile\n",
    "\n",
    "\n",
    "\n"
   ]
  },
  {
   "cell_type": "code",
   "execution_count": null,
   "metadata": {},
   "outputs": [],
   "source": [
    "# Plot\n",
    "\n",
    "\n",
    "\n",
    "# Save plot to your personal folder."
   ]
  },
  {
   "cell_type": "markdown",
   "metadata": {},
   "source": [
    "## Change in Average Earnings\n",
    "\n",
    "The final metric we will explore today is the change in average earnings by county over a time period. Using the previous examples, write the relevant query below, and visualize the results by running the following cells."
   ]
  },
  {
   "cell_type": "markdown",
   "metadata": {},
   "source": [
    "### Query Data"
   ]
  },
  {
   "cell_type": "code",
   "execution_count": null,
   "metadata": {},
   "outputs": [],
   "source": [
    "# WRITE THE QUERY YOURSELF (use any two years and quarters)\n",
    "qry = '''\n",
    "\n",
    "\n",
    "\n",
    "\n",
    "\n",
    "'''\n",
    "df = pd.read_sql(qry, engine)"
   ]
  },
  {
   "cell_type": "code",
   "execution_count": null,
   "metadata": {
    "scrolled": true
   },
   "outputs": [],
   "source": [
    "df.head()"
   ]
  },
  {
   "cell_type": "markdown",
   "metadata": {},
   "source": [
    "### Merge with County Shapefile"
   ]
  },
  {
   "cell_type": "code",
   "execution_count": null,
   "metadata": {},
   "outputs": [],
   "source": [
    "cnty_df = pd.merge(counties, df, left_on=['countyfp'], right_on=['cnty'])"
   ]
  },
  {
   "cell_type": "markdown",
   "metadata": {},
   "source": [
    "### Plot"
   ]
  },
  {
   "cell_type": "code",
   "execution_count": null,
   "metadata": {},
   "outputs": [],
   "source": [
    "# Configure plot settings\n",
    "sns.set_style('white')\n",
    "f, ax = plt.subplots(1, figsize=(6,8))\n",
    "colmap = sns.cubehelix_palette(8, start=2.9, rot=0, dark=.1, light=.95, as_cmap=True)\n",
    "cnty_df.plot('change_in_jobs_pct', ax=ax, legend=True, edgecolor='black', cmap=colmap)\n",
    "ax.axis('off')\n",
    "plt.show()"
   ]
  },
  {
   "cell_type": "markdown",
   "metadata": {},
   "source": [
    "## Task 3\n",
    "Generate the plot visualizing the **change in average earnings** by county **between Q2 of 2010 and Q3 of 2013**. \n",
    "\n",
    "Save the plot to your personal folder in the `Projects/ada_18_uchi/user/` folder.\n",
    "\n",
    "Also save the **query you wrote** in your personal folder as a `.txt` file. "
   ]
  },
  {
   "cell_type": "code",
   "execution_count": null,
   "metadata": {},
   "outputs": [],
   "source": [
    "# Query:\n",
    "\n",
    "\n",
    "\n"
   ]
  },
  {
   "cell_type": "code",
   "execution_count": null,
   "metadata": {},
   "outputs": [],
   "source": [
    "# Merge County Shapefile\n",
    "\n",
    "\n",
    "\n"
   ]
  },
  {
   "cell_type": "code",
   "execution_count": null,
   "metadata": {},
   "outputs": [],
   "source": [
    "# Plot\n",
    "\n",
    "\n",
    "\n",
    "# Save plot to your personal folder."
   ]
  }
 ],
 "metadata": {
  "kernelspec": {
   "display_name": "py2-dashboard",
   "language": "python",
   "name": "py2-dashboard"
  },
  "language_info": {
   "codemirror_mode": {
    "name": "ipython",
    "version": 2
   },
   "file_extension": ".py",
   "mimetype": "text/x-python",
   "name": "python",
   "nbconvert_exporter": "python",
   "pygments_lexer": "ipython2",
   "version": "2.7.12"
  },
  "toc": {
   "nav_menu": {},
   "number_sections": false,
   "sideBar": true,
   "skip_h1_title": false,
   "toc_cell": false,
   "toc_position": {
    "height": "646px",
    "left": "0px",
    "right": "1269.8px",
    "top": "111px",
    "width": "214px"
   },
   "toc_section_display": "block",
   "toc_window_display": false
  }
 },
 "nbformat": 4,
 "nbformat_minor": 2
}
