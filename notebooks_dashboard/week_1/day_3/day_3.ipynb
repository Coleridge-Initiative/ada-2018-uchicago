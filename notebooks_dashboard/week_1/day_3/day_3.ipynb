{
 "cells": [
  {
   "cell_type": "markdown",
   "metadata": {},
   "source": [
    "# Illinois Dashboard - Day 3"
   ]
  },
  {
   "cell_type": "markdown",
   "metadata": {},
   "source": [
    "In this notebook, you will build on your work from Day 2 by creating a simple dashboard that runs the queries from the previous day's notebook. To accomplish this, you will do the following:\n",
    "\n",
    "- Import UI Components (dropdowns, sliders, and buttons) that will be used for setting parameters of the SQL query.\n",
    "- Rewrite query as a template query so that it can be built from our inputs\n",
    "- Place query inside of a function so that it can be run at the click of a button"
   ]
  },
  {
   "cell_type": "markdown",
   "metadata": {},
   "source": [
    "## Python Setup"
   ]
  },
  {
   "cell_type": "code",
   "execution_count": null,
   "metadata": {},
   "outputs": [],
   "source": [
    "# Package for database connection\n",
    "from sqlalchemy import create_engine\n",
    "\n",
    "# Packages for data manipulation\n",
    "import pandas as pd\n",
    "import numpy as np\n",
    "import geopandas as gpd\n",
    "\n",
    "# Packages for visualizations\n",
    "import matplotlib.pyplot as plt\n",
    "import seaborn as sns\n",
    "%matplotlib notebook\n",
    "\n",
    "# Ignore warnings. This is to prevent distracting notices of new packages that are unnecessary\n",
    "import warnings\n",
    "warnings.filterwarnings('ignore')"
   ]
  },
  {
   "cell_type": "code",
   "execution_count": null,
   "metadata": {},
   "outputs": [],
   "source": [
    "# Database connection\n",
    "engine = create_engine('postgresql://@10.10.2.10/appliedda')"
   ]
  },
  {
   "cell_type": "markdown",
   "metadata": {},
   "source": [
    "## Import User Interaction (UI) Components"
   ]
  },
  {
   "cell_type": "markdown",
   "metadata": {},
   "source": [
    "Since building User Interface components is outside the scope of this course, these have been definied in an external file named `ui.py` in a class named `DashUI`. Importing this class allows us to use these components."
   ]
  },
  {
   "cell_type": "code",
   "execution_count": null,
   "metadata": {},
   "outputs": [],
   "source": [
    "from ui import DashUI\n",
    "\n",
    "# Define metrics to plot\n",
    "# list_of_metrics dictionary - Key displays in dropdown. Value is injected into SQL query\n",
    "list_of_metrics = {'Jobs': 'jobs', 'Average Quarterly Earnings': 'avg_wage'}\n",
    "# Creates dashboard\n",
    "dash = DashUI(list_of_metrics)"
   ]
  },
  {
   "cell_type": "code",
   "execution_count": null,
   "metadata": {
    "scrolled": true
   },
   "outputs": [],
   "source": [
    "# Displays dashboard\n",
    "display(dash.input_panel)"
   ]
  },
  {
   "cell_type": "markdown",
   "metadata": {},
   "source": [
    "## Write Query Templates"
   ]
  },
  {
   "cell_type": "markdown",
   "metadata": {},
   "source": [
    "Instead of hardcoding values for the quarters and years of interest as we did in Day 2, we can create a template of our query and fill in these values dynamically based on the values we have selected in our UI components.\n",
    "\n",
    "This is done by placing a variable name inside of curly braces, like this: **`{var}`**, to mark where a substition should be made. Then, the **`format`** function will replace the variable with the value that we assign to it in the function. Below this is done using **`{y}`** and **`{q}`** in our query string. We then use **`qry.format()`** to replace them with the values from the time slider in the dashboard.\n",
    "\n",
    "Try adjusting the time slider in the UI above and then re-running the cells below and notice how the parameters of the query change in the printed output."
   ]
  },
  {
   "cell_type": "markdown",
   "metadata": {},
   "source": [
    "### Count of Jobs and Average Earnings Query"
   ]
  },
  {
   "cell_type": "code",
   "execution_count": null,
   "metadata": {},
   "outputs": [],
   "source": [
    "count_qry = \"\"\"\n",
    "select cnty, count(*) as jobs, avg(wage) as avg_wage\n",
    "from ada_18_uchi.dashboard_data_il_jobs_rs\n",
    "where year = {y} and qtr = {q}\n",
    "group by cnty\n",
    "order by cnty\n",
    "\"\"\""
   ]
  },
  {
   "cell_type": "code",
   "execution_count": null,
   "metadata": {
    "scrolled": true
   },
   "outputs": [],
   "source": [
    "display(dash.input_panel)"
   ]
  },
  {
   "cell_type": "code",
   "execution_count": null,
   "metadata": {},
   "outputs": [],
   "source": [
    "qry = count_qry.format(q=dash.time_slider.value[0], y=dash.time_slider.value[1])\n",
    "print(qry)"
   ]
  },
  {
   "cell_type": "markdown",
   "metadata": {},
   "source": [
    "### Change in Jobs and Average Earnings Query"
   ]
  },
  {
   "cell_type": "markdown",
   "metadata": {},
   "source": [
    "We can do the same thing with the query that calculates the change in jobs and average earnings over time. Click the `Change` button, then use the `Time Range` slider to select a start and end quarter."
   ]
  },
  {
   "cell_type": "code",
   "execution_count": null,
   "metadata": {},
   "outputs": [],
   "source": [
    "change_qry = '''\n",
    "select a.cnty, \n",
    "    cast(b.jobs - a.jobs as decimal)/a.jobs as change_in_jobs_pct, \n",
    "    cast(b.avg_wage - a.avg_wage as decimal)/a.avg_wage as change_in_avg_wage_pct\n",
    "from(\n",
    "    select cnty, \n",
    "        count(*) as jobs, \n",
    "        avg(wage) as avg_wage\n",
    "    from ada_18_uchi.dashboard_data_il_jobs_rs\n",
    "    where year = {y0} and qtr = {q0} \n",
    "    group by cnty\n",
    ") as a\n",
    "full join (\n",
    "    select cnty, \n",
    "        count(*) as jobs, \n",
    "        avg(wage) as avg_wage\n",
    "    from ada_18_uchi.dashboard_data_il_jobs_rs\n",
    "    where year = {y1} and qtr = {q1}\n",
    "    group by cnty\n",
    ") as b\n",
    "on a.cnty = b.cnty\n",
    "order by cnty\n",
    "'''"
   ]
  },
  {
   "cell_type": "code",
   "execution_count": null,
   "metadata": {
    "scrolled": true
   },
   "outputs": [],
   "source": [
    "display(dash.input_panel)"
   ]
  },
  {
   "cell_type": "code",
   "execution_count": null,
   "metadata": {},
   "outputs": [],
   "source": [
    "qry = change_qry.format(q0=dash.time_range_slider.value[0][0],\n",
    "                 y0=dash.time_range_slider.value[0][1],\n",
    "                 q1=dash.time_range_slider.value[1][0],\n",
    "                 y1=dash.time_range_slider.value[1][1])\n",
    "print(qry)"
   ]
  },
  {
   "cell_type": "markdown",
   "metadata": {},
   "source": [
    "## Get County Shapes with `geopandas`"
   ]
  },
  {
   "cell_type": "markdown",
   "metadata": {},
   "source": [
    "As in the previous notebook, we need to pull in the shape data of the counties in Illinois. These will be stored in a GeoDataFrame names `counties` that will be used in our plotting function."
   ]
  },
  {
   "cell_type": "code",
   "execution_count": null,
   "metadata": {},
   "outputs": [],
   "source": [
    "### statefp: 17 for IL ###\n",
    "qry = \"\"\"\n",
    "SELECT countyfp, name,\n",
    "    ST_Transform(geom, 102698) geom \n",
    "FROM tl_2016_us_county \n",
    "WHERE statefp = '17'\n",
    "\"\"\"\n",
    "counties = gpd.read_postgis(qry, engine, geom_col='geom')\n",
    "counties['coords'] = counties.geometry.apply(lambda x: x.representative_point().coords[0])"
   ]
  },
  {
   "cell_type": "markdown",
   "metadata": {},
   "source": [
    "## Define functions to query and plot the data"
   ]
  },
  {
   "cell_type": "markdown",
   "metadata": {},
   "source": [
    "Here we define two functions:\n",
    "1. `run_query`: This runs the query templates that were defined above and uses the selections from our dashboard as parameters in the query.\n",
    "2. `generate_plot`: This calls the `run_query` function, merges the data with our county data, and plots the map.\n",
    "\n",
    "Lastly, we need to link the `generate_plot` function to the button in our dashboard, which is done in the last cell."
   ]
  },
  {
   "cell_type": "code",
   "execution_count": null,
   "metadata": {},
   "outputs": [],
   "source": [
    "# Define run_query function which will run the query templates defined above\n",
    "def run_query():\n",
    "    # Get toggle value to determine which plot type to use\n",
    "    plot_type = dash.plot_toggle.value\n",
    "    \n",
    "    # Set query for either Count or Change\n",
    "    if plot_type == 'Count':\n",
    "        qry = count_qry.format(q=dash.time_slider.value[0],\n",
    "                               y=dash.time_slider.value[1])\n",
    "    elif plot_type == 'Change':\n",
    "        qry = change_qry.format(q0=dash.time_range_slider.value[0][0],\n",
    "                                y0=dash.time_range_slider.value[0][1],\n",
    "                                q1=dash.time_range_slider.value[1][0],\n",
    "                                y1=dash.time_range_slider.value[1][1])\n",
    "\n",
    "    # Run the query and return the Dataframe\n",
    "    df = pd.read_sql(qry, engine)\n",
    "    return df"
   ]
  },
  {
   "cell_type": "code",
   "execution_count": null,
   "metadata": {},
   "outputs": [],
   "source": [
    "def generate_plot(button_obj):\n",
    "    dash.output.clear_output()\n",
    "    with dash.output:\n",
    "        # Configure plot settings\n",
    "        sns.set_style('white')\n",
    "        f, ax = plt.subplots(1, figsize=(6,8))\n",
    "        ax.axis('off')\n",
    "        \n",
    "        # Plot basemap so counties with no data appear hatched\n",
    "        counties.plot(ax=ax, edgecolor='black', color='lightgray', hatch='//')\n",
    "        \n",
    "        # Query and merge data with county shapefile\n",
    "        df = run_query()\n",
    "        cnty_df = pd.merge(counties, df, left_on=['countyfp'], right_on=['cnty'])\n",
    "        \n",
    "        # If no counties data, show empty map and return\n",
    "        if len(cnty_df) == 0:\n",
    "            plt.show()\n",
    "            return\n",
    "        \n",
    "        # Plot county data\n",
    "        metric = dash.metric_dropdown.value\n",
    "        if dash.plot_toggle.value == 'Count':\n",
    "            colmap = sns.cubehelix_palette(8, start=2.9, rot=0, dark=.1, light=.95, as_cmap=True)\n",
    "            cnty_df.plot(metric, ax=ax, legend=True, edgecolor='black', cmap=colmap)\n",
    "        elif dash.plot_toggle.value == 'Change':\n",
    "            metric = 'change_in_{}_pct'.format(metric)\n",
    "            bound = cnty_df[metric].abs().max()\n",
    "            colmap = sns.diverging_palette(10, 150, center='light', as_cmap=True)\n",
    "            cnty_df.plot(metric, ax=ax, legend=True, edgecolor='black', cmap=colmap, vmax=bound, vmin=bound*-1)\n",
    "        \n",
    "        # Show plot\n",
    "        plt.show()"
   ]
  },
  {
   "cell_type": "code",
   "execution_count": null,
   "metadata": {},
   "outputs": [],
   "source": [
    "# Link generate_plot function to Generate Plot button\n",
    "dash.generate_button.on_click(generate_plot)"
   ]
  },
  {
   "cell_type": "code",
   "execution_count": null,
   "metadata": {
    "scrolled": false
   },
   "outputs": [],
   "source": [
    "# Display the input panel and the output of the dashboard\n",
    "display(dash.input_panel)\n",
    "display(dash.output)"
   ]
  },
  {
   "cell_type": "code",
   "execution_count": null,
   "metadata": {},
   "outputs": [],
   "source": []
  }
 ],
 "metadata": {
  "kernelspec": {
   "display_name": "py2-dashboard",
   "language": "python",
   "name": "py2-dashboard"
  },
  "language_info": {
   "codemirror_mode": {
    "name": "ipython",
    "version": 2
   },
   "file_extension": ".py",
   "mimetype": "text/x-python",
   "name": "python",
   "nbconvert_exporter": "python",
   "pygments_lexer": "ipython2",
   "version": "2.7.12"
  },
  "toc": {
   "nav_menu": {},
   "number_sections": false,
   "sideBar": false,
   "skip_h1_title": false,
   "toc_cell": false,
   "toc_position": {
    "height": "50px",
    "left": "27px",
    "right": "20px",
    "top": "110.5px",
    "width": "178px"
   },
   "toc_section_display": "none",
   "toc_window_display": false
  }
 },
 "nbformat": 4,
 "nbformat_minor": 2
}
