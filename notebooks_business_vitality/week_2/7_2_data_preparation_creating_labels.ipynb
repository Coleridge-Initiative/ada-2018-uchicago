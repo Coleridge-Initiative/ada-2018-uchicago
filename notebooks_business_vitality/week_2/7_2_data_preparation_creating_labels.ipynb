{
 "cells": [
  {
   "cell_type": "markdown",
   "metadata": {},
   "source": [
    "<img style=\"float: center;\" src=\"../images/CI_horizontal.png\" width=\"600\">\n",
    "<center>\n",
    "    <span style=\"font-size: 1.5em;\">\n",
    "        <a href='https://www.coleridgeinitiative.org'>Website</a>\n",
    "    </span>\n",
    "</center>\n",
    "\n",
    "Ghani, Rayid, Frauke Kreuter, Julia Lane, Adrianne Bradford, Alex Engler, Nicolas Guetta Jeanrenaud, Graham Henke, Daniela Hochfellner, Clayton Hunter, Brian Kim, Avishek Kumar, and Jonathan Morgan."
   ]
  },
  {
   "cell_type": "markdown",
   "metadata": {},
   "source": [
    "# Data Preparation for Machine Learning - Creating Labels\n",
    "----"
   ]
  },
  {
   "cell_type": "markdown",
   "metadata": {},
   "source": [
    "## Python Setup\n",
    "- Back to [Table of Contents](#Table-of-Contents)\n",
    "\n",
    "Before we begin, run the code cell below to initialize the libraries we'll be using in this assignment. We're already familiar with `numpy`, `pandas`, and `psycopg2` from previous tutorials. Here we'll also be using [`scikit-learn`](http://scikit-learn.org) to fit modeling."
   ]
  },
  {
   "cell_type": "code",
   "execution_count": null,
   "metadata": {},
   "outputs": [],
   "source": [
    "%pylab inline\n",
    "import pandas as pd\n",
    "import psycopg2\n",
    "from sqlalchemy import create_engine"
   ]
  },
  {
   "cell_type": "code",
   "execution_count": null,
   "metadata": {},
   "outputs": [],
   "source": [
    "db_name = \"appliedda\"\n",
    "hostname = \"10.10.2.10\""
   ]
  },
  {
   "cell_type": "markdown",
   "metadata": {},
   "source": [
    "## Creating Labels\n",
    "\n",
    "Labels are the dependent variables, or *Y* variables, that we are trying to predict. In the machine learning framework, your labels are usually *binary*: true or false, encoded as 1 or 0. \n",
    "\n",
    "In this case, our label is __whether an existing single unit employer in a given year disappears whithin a given number of years__. By convention, we will flag employers who still exist in the following year as 0, and those who no longer exist as 1. \n",
    "\n",
    "Single unit employers can be flagged using the `multi_unit_code` (`multi_unit_code = '1'`). We create a unique firm ID using EIN (`ein`), SEIN Unit (`seinunit`) and Employer Number (`empr_no`).\n",
    "\n",
    "We need to pick the year and quarter of prediction, and the number of years we look forward to see if the employer still exists. Let's use Q1 or 2013 as our date of prediction. Different projects might be interested in looking at short-term or long-term survivability of employers, but for this first example, we evaluate firm survivability within one year of the prediction date."
   ]
  },
  {
   "cell_type": "markdown",
   "metadata": {},
   "source": [
    "### Detailed Creation of Labels for a Given Year"
   ]
  },
  {
   "cell_type": "markdown",
   "metadata": {},
   "source": [
    "For this example, let's use 2013 (Q1) as our reference year (year of prediction).\n",
    "\n",
    "Let's start by creating the list of unique employers in that quarter:"
   ]
  },
  {
   "cell_type": "code",
   "execution_count": null,
   "metadata": {},
   "outputs": [],
   "source": [
    "conn = psycopg2.connect(database=db_name, host=hostname)\n",
    "cursor = conn.cursor()"
   ]
  },
  {
   "cell_type": "code",
   "execution_count": null,
   "metadata": {},
   "outputs": [],
   "source": [
    "sql = '''\n",
    "CREATE TEMP TABLE eins_2013q1 AS\n",
    "SELECT DISTINCT CONCAT(ein, '-', seinunit, '-', empr_no) AS id, ein, seinunit, empr_no \n",
    "FROM il_des_kcmo.il_qcew_employers\n",
    "WHERE multi_unit_code = '1' AND year = 2013 AND quarter = 1;\n",
    "COMMIT;\n",
    "'''\n",
    "cursor.execute(sql)"
   ]
  },
  {
   "cell_type": "code",
   "execution_count": null,
   "metadata": {},
   "outputs": [],
   "source": [
    "sql = '''\n",
    "SELECT *\n",
    "FROM eins_2013q1\n",
    "LIMIT 10\n",
    "'''\n",
    "pd.read_sql(sql, conn)"
   ]
  },
  {
   "cell_type": "markdown",
   "metadata": {},
   "source": [
    "Now let's create this same table one year later."
   ]
  },
  {
   "cell_type": "code",
   "execution_count": null,
   "metadata": {},
   "outputs": [],
   "source": [
    "sql = '''\n",
    "CREATE TEMP TABLE eins_2014q1 AS\n",
    "SELECT DISTINCT CONCAT(ein, '-', seinunit, '-', empr_no) AS id, \n",
    "ein, seinunit, empr_no \n",
    "FROM il_des_kcmo.il_qcew_employers\n",
    "WHERE multi_unit_code = '1' AND year = 2014 AND quarter = 1;\n",
    "COMMIT;\n",
    "'''\n",
    "cursor.execute(sql)"
   ]
  },
  {
   "cell_type": "code",
   "execution_count": null,
   "metadata": {},
   "outputs": [],
   "source": [
    "sql = '''\n",
    "SELECT *\n",
    "FROM eins_2014q1\n",
    "LIMIT 10\n",
    "'''\n",
    "pd.read_sql(sql, conn)"
   ]
  },
  {
   "cell_type": "markdown",
   "metadata": {},
   "source": [
    "In order to assess whether a 2013 employer still exists in 2014, let's merge the 2014 table onto the 2013 list of employers. Notice that we create a `label` variable that takes the value `0` if the 2013 employer still exists in 2014, `1` if the employer disappears."
   ]
  },
  {
   "cell_type": "code",
   "execution_count": null,
   "metadata": {},
   "outputs": [],
   "source": [
    "sql = '''\n",
    "CREATE TABLE IF NOT EXISTS ada_18_uchi.labels_2013q1_2014q1 AS\n",
    "SELECT a.*, CASE WHEN b.ein IS NULL THEN 1 ELSE 0 END AS label\n",
    "FROM eins_2013q1 AS a\n",
    "LEFT JOIN eins_2014q1 AS b\n",
    "ON a.id = b.id AND a.ein = b.ein AND a.seinunit = b.seinunit AND a.empr_no = b.empr_no;\n",
    "COMMIT;\n",
    "\n",
    "ALTER TABLE ada_18_uchi.labels_2013q1_2014q1 OWNER TO ada_18_uchi_admin;\n",
    "COMMIT;\n",
    "'''\n",
    "cursor.execute(sql)"
   ]
  },
  {
   "cell_type": "code",
   "execution_count": null,
   "metadata": {
    "scrolled": true
   },
   "outputs": [],
   "source": [
    "# Load the 2013 Labels into Python Pandas \n",
    "sql = '''\n",
    "SELECT *\n",
    "FROM ada_18_uchi.labels_2013q1_2014q1\n",
    "'''\n",
    "df_labels_2013 = pd.read_sql(sql, conn)\n",
    "df_labels_2013.head(10)"
   ]
  },
  {
   "cell_type": "markdown",
   "metadata": {},
   "source": [
    "Given these first rows, employers who survive seem to be more common than employers who disappear. Let's get an idea of the dsitribution of our label variable."
   ]
  },
  {
   "cell_type": "code",
   "execution_count": null,
   "metadata": {},
   "outputs": [],
   "source": [
    "pd.crosstab(index = df_labels_2013['label'], columns =  'count')"
   ]
  },
  {
   "cell_type": "markdown",
   "metadata": {},
   "source": [
    "### Repeating the Label Creation Process for Another Year"
   ]
  },
  {
   "cell_type": "markdown",
   "metadata": {},
   "source": [
    "Since we need one training and one test set for our machine learning analysis, let's create the same labels table for the following year."
   ]
  },
  {
   "cell_type": "code",
   "execution_count": null,
   "metadata": {},
   "outputs": [],
   "source": [
    "conn = psycopg2.connect(database=db_name, host=hostname)\n",
    "cursor = conn.cursor()"
   ]
  },
  {
   "cell_type": "code",
   "execution_count": null,
   "metadata": {},
   "outputs": [],
   "source": [
    "sql = '''\n",
    "CREATE TEMP TABLE eins_2014q1 AS\n",
    "SELECT DISTINCT CONCAT(ein, '-', seinunit, '-', empr_no) AS id, ein, seinunit, empr_no \n",
    "FROM il_des_kcmo.il_qcew_employers\n",
    "WHERE multi_unit_code = '1' AND year = 2014 AND quarter = 1;\n",
    "COMMIT;\n",
    "\n",
    "CREATE TEMP TABLE eins_2015q1 AS\n",
    "SELECT DISTINCT CONCAT(ein, '-', seinunit, '-', empr_no) AS id, ein, seinunit, empr_no \n",
    "FROM il_des_kcmo.il_qcew_employers\n",
    "WHERE multi_unit_code = '1' AND year = 2015 AND quarter = 1;\n",
    "COMMIT;\n",
    "\n",
    "CREATE TABLE IF NOT EXISTS ada_18_uchi.labels_2014q1_2015q1 AS\n",
    "SELECT a.*, CASE WHEN b.ein IS NULL THEN 1 ELSE 0 END AS label\n",
    "FROM eins_2014q1 AS a\n",
    "LEFT JOIN eins_2015q1 AS b\n",
    "ON a.id = b.id AND a.ein = b.ein AND a.seinunit = b.seinunit AND a.empr_no = b.empr_no;\n",
    "COMMIT;\n",
    "\n",
    "ALTER TABLE ada_18_uchi.labels_2014q1_2015q1 OWNER TO ada_18_uchi_admin;\n",
    "COMMIT;\n",
    "'''\n",
    "cursor.execute(sql)"
   ]
  },
  {
   "cell_type": "code",
   "execution_count": null,
   "metadata": {
    "scrolled": true
   },
   "outputs": [],
   "source": [
    "# Load the 2014 Labels into Python Pandas \n",
    "sql = '''\n",
    "SELECT *\n",
    "FROM ada_18_uchi.labels_2014q1_2015q1\n",
    "'''\n",
    "df_labels_2014 = pd.read_sql(sql, conn)\n",
    "df_labels_2014.head()"
   ]
  },
  {
   "cell_type": "markdown",
   "metadata": {},
   "source": [
    "Let's get an idea of the dsitribution of our label variable."
   ]
  },
  {
   "cell_type": "code",
   "execution_count": null,
   "metadata": {},
   "outputs": [],
   "source": [
    "pd.crosstab(index = df_labels_2014['label'], columns =  'count')"
   ]
  },
  {
   "cell_type": "markdown",
   "metadata": {},
   "source": [
    "### Writing a Function to Create Labels\n",
    "\n",
    "If you feel comfortable with the content we saw above, and expect to be creating labels for several different years as part of your project, the following code defines a Python function that generates the label table for any given year and quarter.\n",
    "\n",
    "In the above, the whole SQL query was hard coded. In the below, we made a function with parameters for your choice of year and quarter, your choice of prediction horizon, your team's schema, etc. The complete list of parameters is given in parentheses after the `def generate_labels` statement. Some parameters are given a default value (like `delta_t=1`), others (like `year` and `qtr`) are not. More information on the different parameters is given below:\n",
    "- `year`: The year at which we are doing the prediction.\n",
    "- `qtr`: The quarter at which we are doing the prediction.\n",
    "- `delta_t`: The forward-looking window, or number of years over which we are predicting employer survival or failure. The default value is 1, which means we are prediction at a given time whether an employer will still exist one year later.\n",
    "- `schema`: Your team schema, where the label table will be written. The default value is set to `myschema`, which you define in the cell above the function.\n",
    "- `db_name`: Database name. This is the name of the SQL database we are using. The default value is set to `db_name`, defined in the [Python Setup](#Python-Setup) section of this notebook.\n",
    "- `hostname`: Host name. This is the host name for the SQL database we are using. The default value is set to `hostname`, defined in the [Python Setup](#Python-Setup) section of this notebook.\n",
    "- `overwrite`: Whether you want the function to overwrite tables that already exist. Before writing a table, the function will check whether this table exists, and by default will not overwrite existing tables."
   ]
  },
  {
   "cell_type": "code",
   "execution_count": null,
   "metadata": {},
   "outputs": [],
   "source": [
    "# Insert team schema name below:\n",
    "myschema = 'ada_18_uchi'"
   ]
  },
  {
   "cell_type": "code",
   "execution_count": null,
   "metadata": {},
   "outputs": [],
   "source": [
    "def generate_labels(year, qtr, delta_t=1, schema=myschema, db_name=db_name, hostname=hostname, overwrite=False):\n",
    "    \n",
    "    conn = psycopg2.connect(database=db_name, host = hostname) #database connection\n",
    "    cursor = conn.cursor()\n",
    "   \n",
    "    sql = \"\"\"\n",
    "    \n",
    "    CREATE TEMP TABLE eins_{year}q{qtr} AS\n",
    "    SELECT DISTINCT CONCAT(ein, '-', seinunit, '-', empr_no) AS id, ein, seinunit, empr_no \n",
    "    FROM il_des_kcmo.il_qcew_employers\n",
    "    WHERE multi_unit_code = '1' AND year = {year} AND quarter = {qtr};\n",
    "    COMMIT;\n",
    "\n",
    "    CREATE TEMP TABLE eins_{year_pdelta}q{qtr} AS\n",
    "    SELECT DISTINCT CONCAT(ein, '-', seinunit, '-', empr_no) AS id, ein, seinunit, empr_no \n",
    "    FROM il_des_kcmo.il_qcew_employers\n",
    "    WHERE multi_unit_code = '1' AND year = {year_pdelta} AND quarter = {qtr};\n",
    "    COMMIT;\n",
    "    \n",
    "    DROP TABLE IF EXISTS {schema}.labels_{year}q{qtr}_{year_pdelta}q{qtr};\n",
    "    CREATE TABLE {schema}.labels_{year}q{qtr}_{year_pdelta}q{qtr} AS\n",
    "    SELECT a.*, CASE WHEN b.ein IS NULL THEN 1 ELSE 0 END AS label\n",
    "    FROM eins_{year}q{qtr} AS a\n",
    "    LEFT JOIN eins_{year_pdelta}q{qtr} AS b\n",
    "    ON a.id = b.id AND a.ein = b.ein AND a.seinunit = b.seinunit AND a.empr_no = b.empr_no;\n",
    "    COMMIT;\n",
    "    \n",
    "    ALTER TABLE {schema}.labels_{year}q{qtr}_{year_pdelta}q{qtr} OWNER TO {schema}_admin;\n",
    "    COMMIT;\n",
    "   \n",
    "    \"\"\".format(year=year, year_pdelta=year+delta_t, qtr=qtr, schema=schema)\n",
    "    \n",
    "    \n",
    "    # Let's check if the table already exists:\n",
    "    # This query will return an empty table (with no rows) if the table does not exist\n",
    "    cursor.execute('''\n",
    "    SELECT * FROM information_schema.tables \n",
    "    WHERE table_name = 'labels_{year}q{qtr}_{year_pdelta}q{qtr}' \n",
    "    AND table_schema = '{schema}';\n",
    "    '''.format(year=year, year_pdelta=year+delta_t, qtr=qtr, schema=schema))\n",
    "    \n",
    "    # Let's write table if it does not exist (or if overwrite = True)\n",
    "    if not(cursor.rowcount) or overwrite:\n",
    "        print(\"Creating table\")\n",
    "        cursor.execute(sql)\n",
    "    else:\n",
    "        print(\"Table already exists\")\n",
    "\n",
    "    cursor.close()\n",
    "    \n",
    "    # Load table into pandas dataframe\n",
    "    sql = '''\n",
    "    SELECT * FROM {schema}.labels_{year}q{qtr}_{year_pdelta}q{qtr}\n",
    "    '''.format(year=year, year_pdelta=year+delta_t, qtr=qtr, schema=schema)\n",
    "    df = pd.read_sql(sql, conn)  \n",
    "    \n",
    "    return df"
   ]
  },
  {
   "cell_type": "markdown",
   "metadata": {},
   "source": [
    "Let's run the defined function for a few different years:"
   ]
  },
  {
   "cell_type": "code",
   "execution_count": null,
   "metadata": {},
   "outputs": [],
   "source": [
    "# For 2012 Q1\n",
    "df_labels_2012 = generate_labels(year=2012, qtr=1)\n",
    "pd.crosstab(index = df_labels_2012['label'], columns =  'count')"
   ]
  },
  {
   "cell_type": "code",
   "execution_count": null,
   "metadata": {},
   "outputs": [],
   "source": [
    "# For 2012 Q1 with a 3 year forward looking window\n",
    "df_labels_2012 = generate_labels(year=2012, qtr=1, delta_t=3)\n",
    "pd.crosstab(index = df_labels_2012['label'], columns =  'count')"
   ]
  },
  {
   "cell_type": "markdown",
   "metadata": {},
   "source": [
    "Why is the number of 1's higher in the second case?"
   ]
  },
  {
   "cell_type": "code",
   "execution_count": null,
   "metadata": {},
   "outputs": [],
   "source": [
    "df_labels_2015 = generate_labels(year=2015, qtr=1)\n",
    "pd.crosstab(index = df_labels_2015['label'], columns =  'count')"
   ]
  },
  {
   "cell_type": "markdown",
   "metadata": {},
   "source": [
    "Notice the surprising results in 2015. What is the underlying data problem?"
   ]
  }
 ],
 "metadata": {
  "kernelspec": {
   "display_name": "Python 2",
   "language": "python",
   "name": "python2"
  },
  "language_info": {
   "codemirror_mode": {
    "name": "ipython",
    "version": 2
   },
   "file_extension": ".py",
   "mimetype": "text/x-python",
   "name": "python",
   "nbconvert_exporter": "python",
   "pygments_lexer": "ipython2",
   "version": "2.7.12"
  },
  "toc": {
   "nav_menu": {},
   "number_sections": false,
   "sideBar": true,
   "skip_h1_title": false,
   "toc_cell": false,
   "toc_position": {},
   "toc_section_display": "block",
   "toc_window_display": false
  }
 },
 "nbformat": 4,
 "nbformat_minor": 2
}
