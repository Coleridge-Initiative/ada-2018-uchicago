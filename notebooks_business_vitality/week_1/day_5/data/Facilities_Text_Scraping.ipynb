{
 "cells": [
  {
   "cell_type": "markdown",
   "metadata": {},
   "source": [
    "Import Statements"
   ]
  },
  {
   "cell_type": "code",
   "execution_count": null,
   "metadata": {
    "collapsed": false
   },
   "outputs": [],
   "source": [
    "import pandas as pd\n",
    "import numpy as np\n",
    "from bs4 import BeautifulSoup\n",
    "import requests\n",
    "import sqlite3 as sql3\n",
    "import re"
   ]
  },
  {
   "cell_type": "code",
   "execution_count": null,
   "metadata": {
    "collapsed": true
   },
   "outputs": [],
   "source": [
    "sqlite_file = 'IL_SAMHSA.db'\n",
    "conn = sql3.connect(sqlite_file)"
   ]
  },
  {
   "cell_type": "markdown",
   "metadata": {},
   "source": [
    "load in csv file with SAMHSA listings and write to SQLite"
   ]
  },
  {
   "cell_type": "code",
   "execution_count": null,
   "metadata": {
    "collapsed": false,
    "scrolled": false
   },
   "outputs": [],
   "source": [
    "\n",
    "df_samhsa = pd.read_csv('IL_Behavioral_Health_Treament_Facility_listing_2017.csv')\n",
    "df_samhsa.to_sql('facilities', conn, if_exists='replace', index_label ='FACID')\n",
    "conn.commit()\n"
   ]
  },
  {
   "cell_type": "markdown",
   "metadata": {},
   "source": [
    "set up a cursor - read back just the facility ids and websites"
   ]
  },
  {
   "cell_type": "code",
   "execution_count": null,
   "metadata": {
    "collapsed": false
   },
   "outputs": [],
   "source": [
    "c = conn.cursor()\n",
    "c2 = conn.cursor()\n",
    "c.execute('SELECT FACID, website FROM facilities;')\n",
    "all_rows = c.fetchall()\n"
   ]
  },
  {
   "cell_type": "markdown",
   "metadata": {},
   "source": [
    "create new table for the \"about us\" text for these facilities"
   ]
  },
  {
   "cell_type": "code",
   "execution_count": null,
   "metadata": {
    "collapsed": false
   },
   "outputs": [],
   "source": [
    "c.execute ('CREATE TABLE abouttext (FACID integer, abouturl text, textfromurl text );')\n",
    "conn.commit()\n",
    "\n"
   ]
  },
  {
   "cell_type": "code",
   "execution_count": null,
   "metadata": {
    "collapsed": true
   },
   "outputs": [],
   "source": [
    "c.execute ('CREATE TABLE badurl (FACID integer, level text, badurl text );')\n",
    "conn.commit()"
   ]
  },
  {
   "cell_type": "code",
   "execution_count": null,
   "metadata": {
    "collapsed": true
   },
   "outputs": [],
   "source": [
    "c.execute ('CREATE TABLE maintext (FACID integer, maintext text, url1 text, url2 text, url3 text, url4 text, url5 text );')\n",
    "conn.commit()"
   ]
  },
  {
   "cell_type": "markdown",
   "metadata": {},
   "source": [
    "Read each facility's website url, pull the soup, look for a tags that link to \"about me\" or mission or vision pages\n",
    "insert appropriate pages into the new text table in the database"
   ]
  },
  {
   "cell_type": "code",
   "execution_count": null,
   "metadata": {
    "collapsed": false
   },
   "outputs": [],
   "source": [
    "\n",
    "about = ['about', 'who we are', 'mission', 'vision']\n",
    "tags = [\"p\", \"h1\", \"h2\", \"h3\", \"h4\", \"h5\", \"h6\"]\n",
    "\n",
    "testrow = all_rows[0:3]\n",
    "\n",
    "for row in all_rows:\n",
    "    \n",
    "    thisfacid = row[0]\n",
    "    url = row[1]\n",
    "    # print (url)\n",
    "    if url is not None:\n",
    "        try:\n",
    "            page = requests.get(url)\n",
    "        except requests.exceptions.RequestException as e: \n",
    "            print e\n",
    "            level = \"top\"\n",
    "            c2.execute ('SELECT COUNT(FACID) FROM badurl WHERE badurl LIKE :url AND FACID = :id', {\"url\":url, \"id\":thisfacid})\n",
    "            dup = c2.fetchone()\n",
    "            if dup[0] == 0:\n",
    "                c.execute ('''INSERT INTO badurl \n",
    "                              (FACID, level, badurl) \n",
    "                              VALUES ( ?, ?, ?);''', (thisfacid, level, url))\n",
    "                conn.commit()\n",
    "        else:    \n",
    "            soup = BeautifulSoup(page.text, \"html.parser\")\n",
    "            atags = soup.find_all(\"a\", href = True)\n",
    "            url_list = []\n",
    "            rangelen = 5;\n",
    "            if len(atags) < 5:\n",
    "                rangelen = len(atags)\n",
    "            for i in range(rangelen):\n",
    "                # print(atags[i].get('href'))\n",
    "                url_list.append(atags[i].get('href'))\n",
    "                # print(url_list)\n",
    "            for i in range (rangelen-1, 4):\n",
    "                url_list.append(\" \")\n",
    "            # print(url_list)\n",
    "            maintxtlist = soup.find_all(tags)\n",
    "            maintext =\"\"\n",
    "            for item in maintxtlist:\n",
    "                maintext += (item.text + \" \")\n",
    "            c.execute ('''INSERT INTO maintext \n",
    "                        (FACID, maintext, url1, url2, url3, url4, url5) \n",
    "                        VALUES ( ?, ?, ?, ?, ?, ?, ?);''', (thisfacid, maintext, url_list[0], url_list[1], url_list[2], url_list[3], url_list[4]))\n",
    "            conn.commit() \n",
    "            for link in atags:\n",
    "                atext = link.text\n",
    "                for ab in about:\n",
    "                        if atext.lower().find(ab.lower()) != -1:\n",
    "                            goodurl = link.get('href')\n",
    "                            if goodurl is not None:\n",
    "                                main = \"\"\n",
    "                                spawn = \"\"\n",
    "                                re1='.*?' # Non-greedy match on filler\n",
    "                                re2='((?:[a-z][a-z\\\\.\\\\d\\\\-]+)\\\\.(?:[a-z][a-z\\\\-]+))(?![\\\\w\\\\.])' # Fully Qualified Domain Name 1\n",
    "\n",
    "                                rg = re.compile(re1+re2,re.IGNORECASE|re.DOTALL)\n",
    "                                regurl = rg.search(url)\n",
    "                                if regurl:\n",
    "                                    main = regurl.group(1)\n",
    "                                regspwn = rg.search(goodurl)\n",
    "                                if regspwn:\n",
    "                                    spawn = regspwn.group(1)\n",
    "                                if spawn == main:\n",
    "                                    c2.execute ('SELECT COUNT(FACID) FROM abouttext WHERE abouturl LIKE :url AND FACID = :id', {\"url\":goodurl, \"id\":thisfacid})\n",
    "                                    dup = c2.fetchone()\n",
    "                                    if dup[0] == 0:\n",
    "                                        try:\n",
    "                                            aboutpage = requests.get(goodurl)\n",
    "                                        except requests.exceptions.RequestException as e: \n",
    "                                            print e\n",
    "                                            level = \"bottom\"\n",
    "                                            c2.execute ('SELECT COUNT(FACID) FROM badurl WHERE badurl LIKE :url AND FACID = :id', {\"url\":goodurl, \"id\":thisfacid})\n",
    "                                            dup = c2.fetchone()\n",
    "                                            if dup[0] == 0:\n",
    "                                                c.execute ('''INSERT INTO badurl \n",
    "                                                              (FACID, level, badurl) \n",
    "                                                              VALUES ( ?, ?, ?);''', (thisfacid, level, goodurl))\n",
    "                                                conn.commit()\n",
    "                                        else:     \n",
    "                                            moresoup = BeautifulSoup(aboutpage.text, \"html.parser\")\n",
    "                                            txtlist = moresoup.find_all(tags)\n",
    "                                            goodtext =\"\"\n",
    "                                            for item in txtlist:\n",
    "                                                goodtext += (item.text + \" \")\n",
    "                                            c.execute ('''INSERT INTO abouttext \n",
    "                                                          (FACID, abouturl, textfromurl) \n",
    "                                                          VALUES ( ?, ?, ?);''', (thisfacid, goodurl, goodtext))\n",
    "                                            conn.commit()                \n"
   ]
  },
  {
   "cell_type": "markdown",
   "metadata": {
    "collapsed": false
   },
   "source": [
    "set up united way database"
   ]
  },
  {
   "cell_type": "markdown",
   "metadata": {
    "collapsed": true
   },
   "source": [
    "education: https://uw-mc.org/our-partners/organizations-we-fund/funded-agencies-education/\n",
    "income: https://uw-mc.org/our-partners/organizations-we-fund/funded-agencies-income/\n",
    "health: https://uw-mc.org/our-partners/organizations-we-fund/funded-agencies-health/\n",
    "safety net: https://uw-mc.org/our-partners/organizations-we-fund/funded-agencies-safety-net/"
   ]
  },
  {
   "cell_type": "code",
   "execution_count": null,
   "metadata": {
    "collapsed": false
   },
   "outputs": [],
   "source": [
    "uwsqlite_file = 'IL_unitedway.sqlite'\n",
    "conn = sql3.connect(uwsqlite_file)\n",
    "c = conn.cursor()\n",
    "c2 = conn.cursor()"
   ]
  },
  {
   "cell_type": "code",
   "execution_count": null,
   "metadata": {
    "collapsed": false
   },
   "outputs": [],
   "source": [
    "c.execute ('''CREATE  TABLE \"main\".\"facilities\" (\"FACID\" INTEGER PRIMARY KEY  AUTOINCREMENT  NOT NULL , \"facname\" TEXT, \"factype\" TEXT, \"facurl\" TEXT, \"facloc\" TEXT)''')\n",
    "c.execute ('CREATE TABLE abouttext (FACID integer, abouturl text, textfromurl text );')\n",
    "c.execute ('CREATE TABLE badurl (FACID integer, level text, badurl text );')\n",
    "c.execute ('CREATE TABLE maintext (FACID integer, maintext text, url1 text, url2 text, url3 text, url4 text, url5 text );')\n",
    "conn.commit()\n"
   ]
  },
  {
   "cell_type": "code",
   "execution_count": null,
   "metadata": {
    "collapsed": false
   },
   "outputs": [],
   "source": [
    "unitedway = [(\"education\", \"https://uw-mc.org/our-partners/organizations-we-fund/funded-agencies-education/\"), (\"income\", \"https://uw-mc.org/our-partners/organizations-we-fund/funded-agencies-income/\" ), (\"health\", \"https://uw-mc.org/our-partners/organizations-we-fund/funded-agencies-health/\"), (\"safety net\", \"https://uw-mc.org/our-partners/organizations-we-fund/funded-agencies-safety-net/\")]\n",
    "\n",
    "for uwurl in unitedway:\n",
    "    print (uwurl)\n",
    "\n",
    "    uwpage = requests.get(uwurl[1])\n",
    "    uwsoup = BeautifulSoup(uwpage.text, \"html.parser\")\n",
    "    uwdiv = uwsoup.find(\"div\", {\"id\": \"content\"})\n",
    "    ulist = uwdiv.find(\"ul\")\n",
    "    litems = ulist.find_all(\"li\")\n",
    "    for each in litems:\n",
    "        atag = each.find(\"a\")\n",
    "        thisfactype = uwurl[0]\n",
    "        thisfacurl = atag.get('href')\n",
    "        thisfacname = atag.text\n",
    "        thisfacloc = atag.next_sibling\n",
    "        print(thisfacname)\n",
    "        insertstmt = 'INSERT INTO facilities (facname, factype, facurl, facloc) VALUES (:facname, :factype, :facurl, :facloc);'    \n",
    "        c.execute (insertstmt, {\"facname\":thisfacname, \"factype\":thisfactype, \"facurl\":thisfacurl, \"facloc\":thisfacloc})\n",
    "        conn.commit()\n"
   ]
  },
  {
   "cell_type": "markdown",
   "metadata": {},
   "source": [
    "Load UW facilities into all_rows then rerun about scraping routine"
   ]
  },
  {
   "cell_type": "code",
   "execution_count": null,
   "metadata": {
    "collapsed": true
   },
   "outputs": [],
   "source": [
    "c.execute('SELECT FACID, facurl FROM facilities;')\n",
    "all_rows = c.fetchall()"
   ]
  },
  {
   "cell_type": "code",
   "execution_count": null,
   "metadata": {
    "collapsed": true
   },
   "outputs": [],
   "source": []
  }
 ],
 "metadata": {
  "anaconda-cloud": {},
  "kernelspec": {
   "display_name": "Python [conda root]",
   "language": "python",
   "name": "conda-root-py"
  },
  "language_info": {
   "codemirror_mode": {
    "name": "ipython",
    "version": 2
   },
   "file_extension": ".py",
   "mimetype": "text/x-python",
   "name": "python",
   "nbconvert_exporter": "python",
   "pygments_lexer": "ipython2",
   "version": "2.7.12"
  }
 },
 "nbformat": 4,
 "nbformat_minor": 1
}
