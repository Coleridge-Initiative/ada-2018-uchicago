{
 "cells": [
  {
   "cell_type": "markdown",
   "metadata": {
    "collapsed": true
   },
   "source": [
    "# Data Preparation"
   ]
  },
  {
   "cell_type": "markdown",
   "metadata": {},
   "source": [
    "## Python Setup"
   ]
  },
  {
   "cell_type": "code",
   "execution_count": null,
   "metadata": {},
   "outputs": [],
   "source": [
    "import pandas as pd\n",
    "import numpy as np\n",
    "import psycopg2"
   ]
  },
  {
   "cell_type": "code",
   "execution_count": null,
   "metadata": {},
   "outputs": [],
   "source": [
    "db_name = \"appliedda\"\n",
    "hostname = \"10.10.2.10\"\n",
    "conn = psycopg2.connect(database=db_name, host = hostname) #database connection"
   ]
  },
  {
   "cell_type": "markdown",
   "metadata": {},
   "source": [
    "## SQL Query"
   ]
  },
  {
   "cell_type": "markdown",
   "metadata": {},
   "source": [
    "### Total Version"
   ]
  },
  {
   "cell_type": "code",
   "execution_count": null,
   "metadata": {},
   "outputs": [],
   "source": [
    "script = '''\n",
    "drop table if exists ada_18_uchi.dashboard_data_il_jobs;\n",
    "\n",
    "create temp table dashboard_data_il_temp as\n",
    "select \n",
    "    a.ssn\n",
    "    , a.wage\n",
    "    , a.ein\n",
    "    , a.seinunit\n",
    "    , a.empr_no\n",
    "    , a.year\n",
    "    , a.quarter as qtr\n",
    "    , b.address_city\n",
    "    , b.other_address_zip5\n",
    "    , b.county as cnty\n",
    "    , b.naics\n",
    "from (\n",
    "    select ssn, wage, ein, seinunit, empr_no, year, quarter \n",
    "    from il_des_kcmo.il_wage\n",
    ") as a\n",
    "left join (\n",
    "    select ein, seinunit, empr_no, address_city, other_address_zip5, county, naics, year, quarter \n",
    "    from il_des_kcmo.il_qcew_employers\n",
    ") as b\n",
    "on a.ein = b.ein and a.seinunit = b.seinunit and a.empr_no = b.empr_no \n",
    "and a.year = b.year and a.quarter = b.quarter;\n",
    "\n",
    "create table ada_18_uchi.dashboard_data_il_jobs as\n",
    "select \n",
    "    a.*\n",
    "    , b.start_year as ein_start_year\n",
    "    , b.start_qtr as ein_start_qtr\n",
    "from dashboard_data_il_temp as a\n",
    "left join (select ein, start_year, start_qtr from ada_18_uchi.ein_lookup) as b\n",
    "on a.ein = b.ein;\n",
    "\n",
    "alter table ada_18_uchi.dashboard_data_il_jobs owner to ada_18_uchi_admin;\n",
    "commit;\n",
    "'''"
   ]
  },
  {
   "cell_type": "code",
   "execution_count": null,
   "metadata": {},
   "outputs": [],
   "source": [
    "overwrite = False"
   ]
  },
  {
   "cell_type": "code",
   "execution_count": null,
   "metadata": {},
   "outputs": [],
   "source": [
    "cursor = conn.cursor()\n",
    "cursor.execute('''\n",
    "select * from information_schema.tables \n",
    "where table_name = 'dashboard_data_il_jobs' and table_schema = 'ada_18_uchi'\n",
    "''')\n",
    "if not(cursor.rowcount) or overwrite:\n",
    "    cursor.execute(script)"
   ]
  },
  {
   "cell_type": "markdown",
   "metadata": {},
   "source": [
    "### Random Sample"
   ]
  },
  {
   "cell_type": "code",
   "execution_count": null,
   "metadata": {},
   "outputs": [],
   "source": [
    "script = '''\n",
    "drop table if exists ada_18_uchi.dashboard_data_il_jobs_rs;\n",
    "\n",
    "create table ada_18_uchi.dashboard_data_il_jobs_rs as\n",
    "select *\n",
    "from ada_18_uchi.dashboard_data_il_jobs\n",
    "order by random()\n",
    "limit 10000000;\n",
    "\n",
    "alter table ada_18_uchi.dashboard_data_il_jobs_rs owner to ada_18_uchi_admin;\n",
    "commit;\n",
    "'''"
   ]
  },
  {
   "cell_type": "code",
   "execution_count": null,
   "metadata": {},
   "outputs": [],
   "source": [
    "overwrite = False"
   ]
  },
  {
   "cell_type": "code",
   "execution_count": null,
   "metadata": {},
   "outputs": [],
   "source": [
    "cursor = conn.cursor()\n",
    "cursor.execute('''\n",
    "select * from information_schema.tables \n",
    "where table_name = 'dashboard_data_il_jobs_rs' and table_schema = 'ada_18_uchi'\n",
    "''')\n",
    "if not(cursor.rowcount) or overwrite:\n",
    "    cursor.execute(script)"
   ]
  },
  {
   "cell_type": "markdown",
   "metadata": {},
   "source": [
    "### Bucket Version"
   ]
  },
  {
   "cell_type": "code",
   "execution_count": null,
   "metadata": {},
   "outputs": [],
   "source": [
    "script = '''\n",
    "drop table if exists ada_18_uchi.dashboard_data_il_buckets;\n",
    "\n",
    "create table ada_18_uchi.dashboard_data_il_buckets as \n",
    "select\n",
    "    year\n",
    "    , qtr\n",
    "    , cnty\n",
    "    , (wage/1000)*1000 as wage_bucket\n",
    "    , count(*) as jobs\n",
    "    , avg(wage) as avg_wage\n",
    "from ada_18_uchi.dashboard_data_il_jobs\n",
    "group by year, qtr, cnty, (wage/1000)*1000\n",
    "order by year, qtr, cnty, (wage/1000)*1000;\n",
    "\n",
    "alter table ada_18_uchi.dashboard_data_il_buckets owner to ada_18_uchi_admin;\n",
    "commit;\n",
    "'''"
   ]
  },
  {
   "cell_type": "code",
   "execution_count": null,
   "metadata": {},
   "outputs": [],
   "source": [
    "overwrite = False"
   ]
  },
  {
   "cell_type": "code",
   "execution_count": null,
   "metadata": {},
   "outputs": [],
   "source": [
    "cursor = conn.cursor()\n",
    "cursor.execute('''\n",
    "select * from information_schema.tables \n",
    "where table_name = 'dashboard_data_il_buckets' and table_schema = 'ada_18_uchi'\n",
    "''')\n",
    "if not(cursor.rowcount) or overwrite:\n",
    "    cursor.execute(script)"
   ]
  },
  {
   "cell_type": "markdown",
   "metadata": {},
   "source": [
    "### Bucket Version with Additional Statistics"
   ]
  },
  {
   "cell_type": "code",
   "execution_count": null,
   "metadata": {},
   "outputs": [],
   "source": [
    "script = '''\n",
    "create table if not exists ada_18_uchi.dashboard_data_il as \n",
    "select\n",
    "    year\n",
    "    , qtr\n",
    "    , cnty\n",
    "    , left(naics, 2) as naics\n",
    "    , (wage/1000)*1000 as wage_bucket\n",
    "    , count(*) as jobs\n",
    "    , avg(wage) as avg_wage\n",
    "from ada_18_uchi.dashboard_data_il\n",
    "group by year, qtr, cnty, left(naics, 2), (wage/1000)*1000\n",
    "order by year, qtr, cnty, left(naics, 2), (wage/1000)*1000;\n",
    "\n",
    "alter table ada_18_uchi.dashboard_data_il_all owner to ada_18_uchi_admin;\n",
    "commit;\n",
    "'''"
   ]
  },
  {
   "cell_type": "code",
   "execution_count": null,
   "metadata": {},
   "outputs": [],
   "source": [
    "overwrite = False"
   ]
  },
  {
   "cell_type": "code",
   "execution_count": null,
   "metadata": {},
   "outputs": [],
   "source": [
    "cursor = conn.cursor()\n",
    "cursor.execute('''\n",
    "select * from information_schema.tables \n",
    "where table_name = 'dashboard_data_il' and table_schema = 'ada_18_uchi'\n",
    "''')\n",
    "if not(cursor.rowcount) or overwrite:\n",
    "    cursor.execute(script)"
   ]
  },
  {
   "cell_type": "markdown",
   "metadata": {},
   "source": [
    "## MO Border Data"
   ]
  },
  {
   "cell_type": "code",
   "execution_count": null,
   "metadata": {},
   "outputs": [],
   "source": [
    "# script = '''\n",
    "# create table if not exists ada_kcmo.dashboard_wages_il as\n",
    "# select \n",
    "#     a.ssn\n",
    "#     , a.wage\n",
    "#     , a.ein\n",
    "#     , a.seinunit\n",
    "#     , a.empr_no\n",
    "#     , a.year\n",
    "#     , a.quarter as qtr\n",
    "#     , b.address_street1\n",
    "#     , b.address_city\n",
    "#     , b.address_zip5\n",
    "#     , b.county as cnty\n",
    "#     , b.naics\n",
    "#     , case when b.flag = 1 then 1 else 0 end as merge_status\n",
    "# from il_des_kcmo.il_wage as a\n",
    "# left join (select *, 1 as flag from il_des_kcmo.il_qcew_employers) as b\n",
    "# on a.ein = b.ein and a.seinunit = b.seinunit and a.empr_no = b.empr_no \n",
    "# and a.year = b.year and a.quarter = b.quarter\n",
    "# where b.county in ('067', '001', '149', '013', '083', '119', '163', '133', '157', '077', '181', '003');\n",
    "\n",
    "# alter table ada_kcmo.dashboard_wages_il owner to ada_kcmo_admin;\n",
    "# commit;\n",
    "# '''"
   ]
  },
  {
   "cell_type": "code",
   "execution_count": null,
   "metadata": {},
   "outputs": [],
   "source": [
    "# c = conn.cursor()\n",
    "# c.execute(script)"
   ]
  },
  {
   "cell_type": "code",
   "execution_count": null,
   "metadata": {},
   "outputs": [],
   "source": [
    "# script = '''\n",
    "# create table if not exists ada_kcmo.dashboard_wage_buckets_il as \n",
    "# select\n",
    "#     year\n",
    "#     , qtr\n",
    "#     , cnty\n",
    "#     , left(naics, 2) as naics\n",
    "#     , (wage/1000)*1000 as wage_bucket\n",
    "#     , count(*) as nb_jobs\n",
    "#     , avg(wage) as avg_wage\n",
    "# from ada_kcmo.dashboard_wages_il\n",
    "# group by year, qtr, cnty, left(naics, 2), (wage/1000)*1000\n",
    "# order by year, qtr, cnty, left(naics, 2), (wage/1000)*1000;\n",
    "\n",
    "# alter table ada_kcmo.dashboard_wage_buckets_il owner to ada_kcmo_admin;\n",
    "# commit;\n",
    "# '''"
   ]
  },
  {
   "cell_type": "code",
   "execution_count": null,
   "metadata": {},
   "outputs": [],
   "source": [
    "# c = conn.cursor()\n",
    "# c.execute(script)"
   ]
  },
  {
   "cell_type": "raw",
   "metadata": {},
   "source": []
  }
 ],
 "metadata": {
  "kernelspec": {
   "display_name": "Python 2",
   "language": "python",
   "name": "python2"
  },
  "language_info": {
   "codemirror_mode": {
    "name": "ipython",
    "version": 2
   },
   "file_extension": ".py",
   "mimetype": "text/x-python",
   "name": "python",
   "nbconvert_exporter": "python",
   "pygments_lexer": "ipython2",
   "version": "2.7.12"
  },
  "toc": {
   "nav_menu": {},
   "number_sections": false,
   "sideBar": true,
   "skip_h1_title": false,
   "toc_cell": false,
   "toc_position": {},
   "toc_section_display": "block",
   "toc_window_display": false
  }
 },
 "nbformat": 4,
 "nbformat_minor": 1
}
