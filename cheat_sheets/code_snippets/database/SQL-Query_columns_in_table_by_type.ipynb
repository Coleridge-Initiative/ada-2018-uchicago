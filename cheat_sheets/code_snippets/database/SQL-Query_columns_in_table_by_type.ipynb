{
 "cells": [
  {
   "cell_type": "markdown",
   "metadata": {},
   "source": [
    "# SQL - Query columns in table by type"
   ]
  },
  {
   "cell_type": "code",
   "execution_count": null,
   "metadata": {
    "collapsed": true
   },
   "outputs": [],
   "source": [
    "# schema name\n",
    "schema_name = \"cidi\"\n",
    "\n",
    "# admin role\n",
    "admin_role = schema_name + \"_admin\"\n",
    "select_role = schema_name + \"_select\"\n",
    "\n",
    "# ==> database table names - just like file names above, store reused database information in variables here.\n",
    "\n",
    "# work table name\n",
    "work_db_table = \"dhs_lodge_history_adults\"\n",
    "\n",
    "print( \"Database variables initialized at \" + str( datetime.datetime.now() ) )"
   ]
  },
  {
   "cell_type": "code",
   "execution_count": null,
   "metadata": {
    "collapsed": true
   },
   "outputs": [],
   "source": [
    "# Database connection properties\n",
    "db_host = \"10.10.2.10\"\n",
    "db_port = -1\n",
    "db_username = None\n",
    "db_password = None\n",
    "db_name = \"appliedda\"\n",
    "\n",
    "print( \"Database connection properties initialized at \" + str( datetime.datetime.now() ) )"
   ]
  },
  {
   "cell_type": "code",
   "execution_count": null,
   "metadata": {
    "collapsed": true
   },
   "outputs": [],
   "source": [
    "# create psycopg2 connection to Postgresql\n",
    "\n",
    "# example connect() call that uses all the possible parameters\n",
    "#pgsql_connection = psycopg2.connect( host = db_host, port = db_port, database = db_name, user = db_username, password = db_password )\n",
    "\n",
    "# for SQLAlchemy, just needed database name. Same for DBAPI?\n",
    "pgsql_connection = psycopg2.connect( host = db_host, database = db_name )\n",
    "\n",
    "print( \"Postgresql connection to database \\\"\" + db_name + \"\\\" created at \" + str( datetime.datetime.now() ) )"
   ]
  },
  {
   "cell_type": "code",
   "execution_count": null,
   "metadata": {
    "collapsed": true
   },
   "outputs": [],
   "source": [
    "# create a cursor that maps column names to values\n",
    "pgsql_cursor = pgsql_connection.cursor( cursor_factory = psycopg2.extras.DictCursor )\n",
    "\n",
    "print( \"Postgresql cursor for database \\\"\" + db_name + \"\\\" created at \" + str( datetime.datetime.now() ) )"
   ]
  },
  {
   "cell_type": "code",
   "execution_count": null,
   "metadata": {
    "collapsed": true
   },
   "outputs": [],
   "source": [
    "# make a second cursor.\n",
    "work_cursor = pgsql_connection.cursor( cursor_factory = psycopg2.extras.DictCursor )\n",
    "work_sql_string = \"\"\n",
    "\n",
    "# SQL string to select columns in table.\n",
    "sql_string = \"SELECT *\"\n",
    "sql_string += \" FROM information_schema.columns\"\n",
    "sql_string += \" WHERE table_schema = '\" + schema_name + \"'\"\n",
    "sql_string += \"     AND table_name = '\" + work_db_table + \"'\"\n",
    "sql_string += \"     AND data_type LIKE '%text%'\"\n",
    "sql_string += \";\"\n",
    "\n",
    "print( \"SQL: \" + sql_string )\n",
    "\n",
    "# run query\n",
    "pgsql_cursor.execute( sql_string )\n",
    "\n",
    "# loop over results, getting each column name, and searching within for \"u'\" at the start of values.\n",
    "for column_info in pgsql_cursor:\n",
    "    \n",
    "    # get column name\n",
    "    column_name = column_info[ \"column_name\" ]\n",
    "    \n",
    "    # Make SQL to look for \"u'\" at start of values.\n",
    "    work_sql_string = \"SELECT COUNT( * ) AS unicode_count\"\n",
    "    work_sql_string += \" FROM \" + schema_name + \".\" + work_db_table\n",
    "    #work_sql_string += \" WHERE \" + column_name + \" LIKE 'u''%'\"\n",
    "    work_sql_string += \" WHERE \" + column_name + \" LIKE 'u\\\"%'\"\n",
    "    work_sql_string += \";\"\n",
    "    \n",
    "    #print( \"----> Work SQL: \" + work_sql_string )\n",
    "    \n",
    "    # run SQL\n",
    "    work_cursor.execute( work_sql_string )\n",
    "    \n",
    "    # unicode_count\n",
    "    first_row = work_cursor.fetchone()\n",
    "    unicode_count = first_row[ \"unicode_count\" ]\n",
    "    \n",
    "    print( \"- \" + column_name + \" unicode_count = \" + str( unicode_count ) )\n",
    "    \n",
    "#-- END loop over pgsql_cursor --#"
   ]
  }
 ],
 "metadata": {
  "kernelspec": {
   "display_name": "Python 2",
   "language": "python",
   "name": "python2"
  },
  "language_info": {
   "codemirror_mode": {
    "name": "ipython",
    "version": 2
   },
   "file_extension": ".py",
   "mimetype": "text/x-python",
   "name": "python",
   "nbconvert_exporter": "python",
   "pygments_lexer": "ipython2",
   "version": "2.7.12"
  }
 },
 "nbformat": 4,
 "nbformat_minor": 2
}
