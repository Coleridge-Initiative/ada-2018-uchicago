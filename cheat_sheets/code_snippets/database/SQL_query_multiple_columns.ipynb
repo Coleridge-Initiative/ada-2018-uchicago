{
 "cells": [
  {
   "cell_type": "code",
   "execution_count": null,
   "metadata": {},
   "outputs": [],
   "source": [
    "# import packages\n",
    "import pandas as pd\n",
    "from sqlalchemy import create_engine"
   ]
  },
  {
   "cell_type": "code",
   "execution_count": null,
   "metadata": {},
   "outputs": [],
   "source": [
    "# set database connection\n",
    "HOST = \"10.10.2.10\"\n",
    "DB = \"appliedda\"\n",
    "sql_conn = create_engine(\"postgresql://{}/{}\".format(HOST, DB))"
   ]
  },
  {
   "cell_type": "code",
   "execution_count": null,
   "metadata": {},
   "outputs": [],
   "source": [
    "# get columns from some table #\n",
    "\n",
    "# table name\n",
    "tbl = \"il_des_establishment\"\n",
    "# will also later need what schema table is in:\n",
    "tbl_schema = 'ides'\n",
    "\n",
    "# the information schema is useful.\n",
    "query = \"SELECT column_name, data_type FROM information_schema.columns WHERE table_name = '{}';\".format(tbl)\n",
    "\n",
    "# if you want you can test this in the SQL interface of your choosing\n",
    "print(query)"
   ]
  },
  {
   "cell_type": "code",
   "execution_count": null,
   "metadata": {},
   "outputs": [],
   "source": [
    "df_columns = pd.read_sql(query, sql_conn)\n",
    "df_columns"
   ]
  },
  {
   "cell_type": "code",
   "execution_count": null,
   "metadata": {},
   "outputs": [],
   "source": [
    "# we're going to use SQL to calculate some descriptive stats on only the numeric columns, so first subset the above\n",
    "df_columns = df_columns[df_columns['data_type'].isin(['bigint', 'double precision'])]\n",
    "df_columns"
   ]
  },
  {
   "cell_type": "code",
   "execution_count": null,
   "metadata": {},
   "outputs": [],
   "source": [
    "# obviously this is for demonstrative purposes only as the full descriptive stats of this particular table \n",
    "# won't be all that interesting, but we can loop through some SQL aggregations as well as the columns\n",
    "\n",
    "# SQL aggegation functions to use:\n",
    "sql_aggs = ['COUNT', 'AVG', 'SUM', 'MIN', 'MAX', 'STDDEV']\n",
    "\n",
    "# set the beggining of your query\n",
    "sql_query = \"SELECT \"\n",
    "\n",
    "# loop first through columns\n",
    "for idx, row in df_columns.iterrows():\n",
    "    # then iterate through the aggregation functions\n",
    "    for a in sql_aggs:\n",
    "        # and add the appropriate string parts to your existing string\n",
    "        # here we're making use of the format function to both\n",
    "        # set up the aggregation with parenthesis eg \"COUNT(index)\" and \n",
    "        # rename the output to <column>_<agg> eg \"index_COUNT\"\n",
    "        sql_query += \"{0:}({1:}) AS {1:}_{0:}, \".format(a, row['column_name'])\n",
    "        \n",
    "# pause there and see what we have\n",
    "print(sql_query)"
   ]
  },
  {
   "cell_type": "code",
   "execution_count": null,
   "metadata": {},
   "outputs": [],
   "source": [
    "# almost perfect, except since we set it up to but a comma and space after each iteration, we have an extra comma\n",
    "# so let's simply chop it off by selecting everything except the last two characters\n",
    "sql_query = sql_query[:-2]\n",
    "sql_query"
   ]
  },
  {
   "cell_type": "code",
   "execution_count": null,
   "metadata": {},
   "outputs": [],
   "source": [
    "# that's the select part, now let's simply add on the FROM:\n",
    "sql_query += \" FROM {}.{};\".format(tbl_schema, tbl)"
   ]
  },
  {
   "cell_type": "code",
   "execution_count": null,
   "metadata": {},
   "outputs": [],
   "source": [
    "# check the query - and if you want run this in some other place:\n",
    "sql_query"
   ]
  },
  {
   "cell_type": "code",
   "execution_count": null,
   "metadata": {},
   "outputs": [],
   "source": [
    "# and run the query:\n",
    "summary_stats = pd.read_sql(sql_query, sql_conn)\n",
    "summary_stats"
   ]
  },
  {
   "cell_type": "code",
   "execution_count": null,
   "metadata": {},
   "outputs": [],
   "source": []
  }
 ],
 "metadata": {
  "kernelspec": {
   "display_name": "Python 2",
   "language": "python",
   "name": "python2"
  },
  "language_info": {
   "codemirror_mode": {
    "name": "ipython",
    "version": 2
   },
   "file_extension": ".py",
   "mimetype": "text/x-python",
   "name": "python",
   "nbconvert_exporter": "python",
   "pygments_lexer": "ipython2",
   "version": "2.7.12"
  },
  "toc": {
   "nav_menu": {},
   "number_sections": true,
   "sideBar": true,
   "skip_h1_title": false,
   "toc_cell": false,
   "toc_position": {},
   "toc_section_display": "block",
   "toc_window_display": false
  }
 },
 "nbformat": 4,
 "nbformat_minor": 2
}
