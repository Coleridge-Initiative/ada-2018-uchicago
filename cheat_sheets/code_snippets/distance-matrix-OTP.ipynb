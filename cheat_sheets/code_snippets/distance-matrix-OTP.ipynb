{
 "cells": [
  {
   "cell_type": "markdown",
   "metadata": {},
   "source": [
    "# Example of creating a distance matrix using OpenTripPlanner\n",
    "\n",
    "Steps:\n",
    "1. create your dataframe\n",
    "2. set up distance function\n",
    "3. loop through dataframe calculating distances"
   ]
  },
  {
   "cell_type": "code",
   "execution_count": null,
   "metadata": {},
   "outputs": [],
   "source": [
    "## import Python packages ##\n",
    "import time # to convert time as needed and report how long some functions take\n",
    "\n",
    "# interacting with websites and web-APIs\n",
    "import requests # easy way to interact with web sites and services\n",
    "import json # read/write JavaScript Object Notation (JSON)\n",
    "\n",
    "# data manipulation\n",
    "import pandas as pd # easy data manipulation\n",
    "import geopandas as gpd # geographic data manipulation\n",
    "from shapely.geometry import Point, LineString # to create lines from a list of points\n",
    "\n",
    "# pull data from database\n",
    "from sqlalchemy import create_engine\n",
    "\n",
    "# visualization\n",
    "import matplotlib as mplib\n",
    "import matplotlib.pyplot as plt # visualization package\n",
    "\n",
    "# so images get plotted in the notebook\n",
    "%matplotlib inline"
   ]
  },
  {
   "cell_type": "code",
   "execution_count": null,
   "metadata": {},
   "outputs": [],
   "source": [
    "# database connection\n",
    "conn = create_engine(\"postgresql://stuffed/appliedda\")"
   ]
  },
  {
   "cell_type": "markdown",
   "metadata": {},
   "source": [
    "The query used below simply pulls lat/lon coordiants for the centroid of Chicago neighborhood polygons. PostGIS has great documentation online, and all the `ST_...` functions are a part of the PostGIS extension to PostgreSQL."
   ]
  },
  {
   "cell_type": "code",
   "execution_count": null,
   "metadata": {},
   "outputs": [],
   "source": [
    "# get data, example using chicago neighborhood centroids as both origin and destination points\n",
    "\n",
    "origin_qry = \"\"\"\n",
    "SELECT neighborhood as o_name, \n",
    "    ST_Y(ST_Centroid(ST_Transform(geom, 4326))) as lat, \n",
    "    ST_X(ST_Centroid(ST_Transform(geom, 4326))) as lon\n",
    "FROM chicago_nhoods\n",
    "\"\"\"\n",
    "\n",
    "dest_qry = \"\"\"\n",
    "SELECT neighborhood as d_name, \n",
    "    ST_Y(ST_Centroid(ST_Transform(geom, 4326))) as lat, \n",
    "    ST_X(ST_Centroid(ST_Transform(geom, 4326))) as lon\n",
    "FROM chicago_nhoods\n",
    "\"\"\"\n",
    "\n",
    "# pull data from \n",
    "origins = pd.read_sql(origin_qry, conn)\n",
    "destinations = pd.read_sql(dest_qry, conn)"
   ]
  },
  {
   "cell_type": "code",
   "execution_count": null,
   "metadata": {},
   "outputs": [],
   "source": [
    "base_url = 'https://tripplanner.adrf.info/otp/routers/'\n",
    "\n",
    "# Set up query URL\n",
    "qry_url = '{}index/feeds'.format(base_url)\n",
    "\n",
    "# Again, since we are still using HTTP, we can use the requests package's get \n",
    "response = requests.get(qry_url)"
   ]
  },
  {
   "cell_type": "code",
   "execution_count": null,
   "metadata": {},
   "outputs": [],
   "source": []
  },
  {
   "cell_type": "code",
   "execution_count": null,
   "metadata": {},
   "outputs": [],
   "source": [
    "# example query\n",
    "# base URL where OTP is installed \n",
    "# - end point \"routers/\" simply lists information about the router\n",
    "base_url = \"chicago_20171023/\"\n",
    "\n",
    "date = '2017-11-15'\n",
    "\n",
    "origin_lat = origins['lat'][0]\n",
    "origin_lon = origins['lon'][0]\n",
    "destination_lat = destinations['lat'][5]\n",
    "destination_lon = destinations['lon'][5]\n",
    "\n",
    "qry_url = '{}plan?fromPlace={},{}&toPlace={},{}&date={}'\\\n",
    ".format(base_url, origin_lat, origin_lon, destination_lat, destination_lon, date)   \n",
    "print(qry_url)"
   ]
  },
  {
   "cell_type": "code",
   "execution_count": null,
   "metadata": {},
   "outputs": [],
   "source": [
    "response = requests.get(qry_url)\n",
    "response = response.text\n",
    "plan = json.loads(response)\n",
    "\n",
    "# Examine the response, which is a routing plan:\n",
    "print(plan)"
   ]
  },
  {
   "cell_type": "code",
   "execution_count": null,
   "metadata": {},
   "outputs": [],
   "source": [
    "# the plan will return up to three trip options as a list:\n",
    "len(plan['plan']['itineraries'])"
   ]
  },
  {
   "cell_type": "code",
   "execution_count": null,
   "metadata": {},
   "outputs": [],
   "source": [
    "# what 'keys' does each trip return? let's check the first trip plan returned:\n",
    "print(plan['plan']['itineraries'][0].keys())"
   ]
  },
  {
   "cell_type": "code",
   "execution_count": null,
   "metadata": {},
   "outputs": [],
   "source": [
    "# what is included in 'legs'\n",
    "print(plan['plan']['itineraries'][0]['legs'][0].keys())"
   ]
  },
  {
   "cell_type": "code",
   "execution_count": null,
   "metadata": {},
   "outputs": [],
   "source": [
    "# get total distance and time for a route\n",
    "# duration was simply in trip summary info\n",
    "duration = plan['plan']['itineraries'][0]['duration']\n",
    "# but only WalkDistance was included in this example\n",
    "distance = 0\n",
    "for leg in plan['plan']['itineraries'][0]['legs']:\n",
    "    # add leg's distance\n",
    "    distance += leg['distance']\n",
    "    \n",
    "print('1st trip returned had')\n",
    "print('duration (seconds): {:.1f}'.format(duration))\n",
    "print('distance (meters): {:.1f}'.format(distance))"
   ]
  },
  {
   "cell_type": "code",
   "execution_count": null,
   "metadata": {},
   "outputs": [],
   "source": [
    "# which neighborhoods are these?\n",
    "print(origins['o_name'][0])\n",
    "print(destinations['d_name'][5])"
   ]
  },
  {
   "cell_type": "markdown",
   "metadata": {},
   "source": [
    "Checking on Google Maps it should take less than an hour (53 minutes) so all in all pretty good. Note if you do not add a date & time OTP will run assuming _now_"
   ]
  },
  {
   "cell_type": "code",
   "execution_count": null,
   "metadata": {},
   "outputs": [],
   "source": [
    "# now compare duration & distance of all 3 trips returned:\n",
    "trip_durs = []\n",
    "trip_dist = []\n",
    "\n",
    "for trip in plan['plan']['itineraries']:\n",
    "    # add duration to list\n",
    "    trip_durs.append(trip['duration'])\n",
    "    # get distance\n",
    "    dist = 0\n",
    "    for leg in plan['plan']['itineraries'][0]['legs']:\n",
    "        # add leg's distance\n",
    "        dist += leg['distance']\n",
    "    # add distance to trip list\n",
    "    trip_dist.append(dist)\n",
    "    \n",
    "# how do trips compare?\n",
    "print(trip_durs)\n",
    "print(trip_dist)"
   ]
  },
  {
   "cell_type": "markdown",
   "metadata": {},
   "source": [
    "All trips are same distance, from Googling it looks like there are a few different bus options that are slightly different but give essentially same result."
   ]
  },
  {
   "cell_type": "code",
   "execution_count": null,
   "metadata": {},
   "outputs": [],
   "source": [
    "# get position of fastest trip\n",
    "pd.np.argmin(trip_durs)"
   ]
  },
  {
   "cell_type": "code",
   "execution_count": null,
   "metadata": {},
   "outputs": [],
   "source": [
    "# so let's do this for all origin-destination pairs\n",
    "# what data do we want to collect:\n",
    "o_name = []\n",
    "d_name = []\n",
    "durations = []\n",
    "distances = []\n",
    "queries = []\n",
    "\n",
    "start_time = time.time()\n",
    "\n",
    "# do for just first 5 origins and last 5 destinations\n",
    "for oid, origin in origins.loc[:5,:].iterrows():\n",
    "    for did, destin in destinations.loc[-5:,:].iterrows():\n",
    "        # set up this query\n",
    "        qry_url = '{}plan?fromPlace={},{}&toPlace={},{}'\\\n",
    ".format(base_url, origin['lat'], origin['lon'], destin['lat'], destin['lon'])\n",
    "        # get plan\n",
    "        response = requests.get(qry_url)\n",
    "        response = response.text\n",
    "        plan = json.loads(response)\n",
    "#         print('success') # for testing\n",
    "        # now compare duration & distance of all 3 trips returned:\n",
    "        trip_durs = []\n",
    "        trip_dist = []\n",
    "\n",
    "        # confirm a trip plan returned:\n",
    "        if 'plan' in plan.keys(): \n",
    "            for trip in plan['plan']['itineraries']:\n",
    "                # add duration to list\n",
    "                trip_durs.append(trip['duration'])\n",
    "                # get distance\n",
    "                dist = 0\n",
    "                for leg in plan['plan']['itineraries'][0]['legs']:\n",
    "                    # add leg's distance\n",
    "                    dist += leg['distance']\n",
    "                # add distance to trip list\n",
    "                trip_dist.append(dist)\n",
    "            # which trip was fastest\n",
    "            dur_id = pd.np.argmin(trip_durs)\n",
    "\n",
    "            # update outputs\n",
    "            o_name.append(origin['o_name'])\n",
    "            d_name.append(destin['d_name'])\n",
    "            durations.append(trip_durs[dur_id])\n",
    "            distances.append(trip_dist[dur_id])\n",
    "            queries.append(qry_url)\n",
    "        else: # no plan returned for pair\n",
    "            # update outputs\n",
    "            o_name.append(origin['o_name'])\n",
    "            d_name.append(destin['d_name'])\n",
    "            durations.append(None)\n",
    "            distances.append(None)\n",
    "            queries.append(None)\n",
    "        \n",
    "# create dataframe from outputs\n",
    "orig_dest_df = pd.DataFrame({'origin': o_name, 'destin': d_name, \n",
    "                             'duration_seconds': durations,\n",
    "                            'distance_meters': distances, 'query': queries})\n",
    "end_time = time.time()\n",
    "print('analysis took {:.3f}'.format(end_time - start_time))\n",
    "orig_dest_df.head()"
   ]
  },
  {
   "cell_type": "code",
   "execution_count": null,
   "metadata": {},
   "outputs": [],
   "source": [
    "qry = \"\"\"\n",
    "SELECT a.new_zip, a.location, b.o_lon, b.o_lat, b.d_lon, b.d_lat,\n",
    "max(ST_Distance(ST_Transform(ST_SetSRID(ST_Point(b.o_lon, b.o_lat), 4326), 2163),\n",
    "ST_Transform(ST_SetSRID(ST_Point(b.d_lon, b.d_lat), 4326), 2163))) dist_meters\n",
    "FROM ada_class3_uw_2.midd1 AS a\n",
    "JOIN ada_class3_uw_2.o_d_latlons b\n",
    "ON a.new_zip = b.new_zip::int AND a.location = b.location\n",
    "GROUP BY a.new_zip, a.location, b.o_lon, b.o_lat, b.d_lon, b.d_lat\n",
    "\"\"\"\n",
    "\n",
    "\n",
    "o_d_table = pd.read_sql(qry, conn)\n",
    "o_d_table.head()"
   ]
  },
  {
   "cell_type": "code",
   "execution_count": null,
   "metadata": {},
   "outputs": [],
   "source": [
    "o_d_table.shape"
   ]
  },
  {
   "cell_type": "markdown",
   "metadata": {},
   "source": [
    "## distance matrix loop"
   ]
  },
  {
   "cell_type": "code",
   "execution_count": null,
   "metadata": {},
   "outputs": [],
   "source": [
    "\n",
    "# - end point \"routers/\" simply lists information about the router\n",
    "base_url = \"https://tripplanner.adrf.info/otp/routers/seattle_20171023/\""
   ]
  },
  {
   "cell_type": "code",
   "execution_count": null,
   "metadata": {},
   "outputs": [],
   "source": [
    "# so let's do this for all origin-destination pairs\n",
    "# what data do we want to collect:\n",
    "o_name = []\n",
    "d_name = []\n",
    "durations = []\n",
    "distances = []\n",
    "queries = []\n",
    "\n",
    "start_time = time.time()\n",
    "\n",
    "for did, o_d in o_d_table.iterrows():\n",
    "    # set up this query\n",
    "    qry_url = '{}plan?fromPlace={},{}&toPlace={},{}'\\\n",
    ".format(base_url, o_d['o_lat'], o_d['o_lon'], o_d['d_lat'], o_d['d_lon'])\n",
    "    # get plan\n",
    "    response = requests.get(qry_url)\n",
    "    response = response.text\n",
    "    plan = json.loads(response)\n",
    "#         print('success') # for testing\n",
    "    # now compare duration & distance of all 3 trips returned:\n",
    "    trip_durs = []\n",
    "    trip_dist = []\n",
    "\n",
    "    o_name.append(o_d['new_zip'])\n",
    "    d_name.append(o_d['location'])\n",
    "    \n",
    "    # confirm a trip plan returned:\n",
    "    if 'plan' in plan.keys(): \n",
    "        for trip in plan['plan']['itineraries']:\n",
    "            # add duration to list\n",
    "            trip_durs.append(trip['duration'])\n",
    "            # get distance\n",
    "            dist = 0\n",
    "            for leg in trip['legs']:\n",
    "                # add leg's distance\n",
    "                dist += leg['distance']\n",
    "            # add distance to trip list\n",
    "            trip_dist.append(dist)\n",
    "            \n",
    "        # get first trip's duration - alternate to speed up analysis\n",
    "#         first_trip = plan['plan']['itineraries'][0]\n",
    "#         durations.append(first_trip['duration'])\n",
    "        # which trip was fastest\n",
    "#         dur_id = pd.np.argmin(trip_durs)\n",
    "\n",
    "        # update outputs\n",
    "        durations.append(trip_durs[dur_id])\n",
    "        distances.append(trip_dist[dur_id])\n",
    "        queries.append(qry_url)\n",
    "    else: # no plan returned for pair\n",
    "        # update outputs\n",
    "        durations.append(None)\n",
    "        distances.append(None)\n",
    "        queries.append(None)\n",
    "        \n",
    "# create dataframe from outputs\n",
    "orig_dest_df = pd.DataFrame({'origin': o_name, 'destin': d_name, \n",
    "                             'duration_seconds': durations,\n",
    "                            'distance_meters': distances, 'query': queries})\n",
    "end_time = time.time()\n",
    "print('analysis took {:.3f}'.format(end_time - start_time))\n",
    "orig_dest_df.head()\n"
   ]
  },
  {
   "cell_type": "code",
   "execution_count": null,
   "metadata": {},
   "outputs": [],
   "source": [
    "orig_dest_df.to_sql('o_d_times', conn, schema='ada_class3_uw_2', index=False)"
   ]
  },
  {
   "cell_type": "code",
   "execution_count": null,
   "metadata": {},
   "outputs": [],
   "source": [
    "orig_dest_df.shape"
   ]
  },
  {
   "cell_type": "code",
   "execution_count": null,
   "metadata": {},
   "outputs": [],
   "source": [
    "\n",
    "for did, o_d in o_d_table.loc[:5,:].iterrows():\n",
    "    print(did)"
   ]
  },
  {
   "cell_type": "code",
   "execution_count": null,
   "metadata": {},
   "outputs": [],
   "source": [
    "o_d_table.iloc[-5:,:]"
   ]
  }
 ],
 "metadata": {
  "kernelspec": {
   "display_name": "Python 2",
   "language": "python",
   "name": "python2"
  },
  "language_info": {
   "codemirror_mode": {
    "name": "ipython",
    "version": 2
   },
   "file_extension": ".py",
   "mimetype": "text/x-python",
   "name": "python",
   "nbconvert_exporter": "python",
   "pygments_lexer": "ipython2",
   "version": "2.7.12"
  },
  "toc": {
   "nav_menu": {},
   "number_sections": true,
   "sideBar": false,
   "skip_h1_title": false,
   "toc_cell": false,
   "toc_position": {
    "height": "79px",
    "left": "35px",
    "right": "20px",
    "top": "107px",
    "width": "174px"
   },
   "toc_section_display": "none",
   "toc_window_display": false
  }
 },
 "nbformat": 4,
 "nbformat_minor": 2
}
