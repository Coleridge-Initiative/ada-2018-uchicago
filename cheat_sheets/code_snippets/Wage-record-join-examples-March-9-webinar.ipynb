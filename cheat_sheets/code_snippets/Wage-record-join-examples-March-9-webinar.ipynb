{
 "cells": [
  {
   "cell_type": "markdown",
   "metadata": {},
   "source": [
    "## Examples discussed on the March 9 webinar\n",
    "\n",
    "Two examples:\n",
    "1. Join the establishment location addendum with the employer dataset\n",
    "2. Join the UI wage record data with the employer data ([jump to example](#UI-wage-to-employer))"
   ]
  },
  {
   "cell_type": "code",
   "execution_count": null,
   "metadata": {},
   "outputs": [],
   "source": [
    "# libraries\n",
    "import pandas as pd\n",
    "from sqlalchemy import create_engine"
   ]
  },
  {
   "cell_type": "markdown",
   "metadata": {},
   "source": [
    "### Establishment to employer\n",
    "\n",
    "IDES provides an addendum to employer locations that offers better addresses for years 2012 - 2015. What follows is an example of how to join the two datasets.\n",
    "\n",
    "The tables:\n",
    "1. Establishment locations (\"Illinois Department of Employment Security (IDES) establishment data addendum to employer records - 2012-2015\" [in the ADRF Explorer](https://deepdish.adrf.info/detail/adrf-000035/))\n",
    "2. Employer data (\"Illinois Department of Employment Security (IDES) Employer records - 2005-2015\" [in the ADRF Explorer](https://deepdish.adrf.info/detail/adrf-000034))\n",
    "\n",
    "The fields to use to join the datasets:\n",
    "1. Employer Identification Number (\"ein\" in both tables)\n",
    "2. Reporting Unit Number (\"rptunitno\" in establishment data and \"seinunit\" in employer data)\n",
    "3. UI Account Number (\"uiacctno\" in establishment data and \"empr_no\" in employer data)\n",
    "4. Time fields \"year\" and \"quarter\" in both datasets"
   ]
  },
  {
   "cell_type": "code",
   "execution_count": null,
   "metadata": {},
   "outputs": [],
   "source": [
    "# Establish the query, we'll separate out the lines:\n",
    "\n",
    "# first the select portion let's grab \n",
    "# the geographic coordinates \"x\" (longitude), \"y\" (latitude), and \"census_id\" (Block code) from establishments, and\n",
    "# from Employer we'll get the ID and time variables above as well as NAICS code, total wages, and legal name\n",
    "query = \"SELECT e.ein, e.seinunit AS reporting_unit, e.empr_no AS ui_account, e.year, e.quarter, \"\n",
    "# note we'll use a simple \"+\" to concatenate the query, this is still part of the SELECT clause\n",
    "query += \"e.naics, e.total_wages, e.name_legal, a.x AS longitude, a.y AS latitude, a.census_id \" \n",
    "# note the space at the end, it is intentional so the resulting query will be correct\n",
    "\n",
    "# the FROM clause, here we'll use the \"FROM table_a a JOIN table_b b ON a.join_field = b.join_field\" syntax\n",
    "query += \"FROM il_des_establishment a JOIN il_qcew_employers e \"\n",
    "# separating out the ON portion as we are using 5 fields for these tables, first the ID fields\n",
    "query += \"ON e.ein = a.ein AND a.rptunitno = e.seinunit AND e.empr_no = a.uiacctno \"\n",
    "# and then the time fields\n",
    "query += \"AND e.year = a.year AND e.quarter = a.quarter \"\n",
    "\n",
    "# it would be possible to run like this on the entire datasets, \n",
    "# however let's add a WHERE clause to limit our results to just a single quarter\n",
    "# note that because we are joining on both these variables above with an \"inner join\", \n",
    "# we can simply include them from one dataset to limit our results\n",
    "query += \"WHERE e.year = 2013 AND e.quarter = 1 \"\n",
    "\n",
    "# and for kicks let's order by our 3 ID variables: \n",
    "# (you can use either the aliases or the original names, but if you use original names you'll have to specify\n",
    "# from what table they come)\n",
    "query += \"ORDER BY ein, reporting_unit, ui_account \"\n",
    "\n",
    "# finally let's limit to just 100 rows for this exmaple\n",
    "query += \"LIMIT 100;\"\n",
    "\n",
    "# and finally let's print out the query to see what it looks like all together:\n",
    "print(query)"
   ]
  },
  {
   "cell_type": "markdown",
   "metadata": {},
   "source": [
    "> At this point, you could simply copy and paste the query above into a PgAdmin SQL window if you prefer"
   ]
  },
  {
   "cell_type": "code",
   "execution_count": null,
   "metadata": {},
   "outputs": [],
   "source": [
    "# establish the database connection:\n",
    "db = \"appliedda\"\n",
    "host = \"10.10.2.10\"\n",
    "conn = create_engine(\"postgresql://{}/{}\".format(host, db))\n",
    "# string formatting can be very useful, above is another example of how it can be used\n",
    "\n",
    "# and let's use our connection to check that our tables are both actually there\n",
    "# we'll get a little fancy and use string formatting and an inline if statement to print out\n",
    "# if we found the table or not\n",
    "tbl1 = 'il_des_establishment'\n",
    "print('{} {} {}'.format(db, 'has' if conn.has_table(tbl1) else 'does NOT have', tbl1))\n",
    "tbl2 = 'il_qcew_employers'\n",
    "print('{} {} {}'.format(db, 'has' if conn.has_table(tbl2) else 'does NOT have', tbl2))"
   ]
  },
  {
   "cell_type": "markdown",
   "metadata": {},
   "source": [
    "> We have now\n",
    "1. constructed our query (named \"query\")\n",
    "2. established our database connection\n",
    "3. tested that the database does indeed have the tables we want"
   ]
  },
  {
   "cell_type": "code",
   "execution_count": null,
   "metadata": {},
   "outputs": [],
   "source": [
    "# let's get our data into a pandas dataframe:\n",
    "employers = pd.read_sql(query, conn)\n",
    "\n",
    "# and check it's info:\n",
    "employers.info()"
   ]
  },
  {
   "cell_type": "code",
   "execution_count": null,
   "metadata": {},
   "outputs": [],
   "source": [
    "# and let's check the descriptive stats of all the (numeric) columns:\n",
    "employers.describe()"
   ]
  },
  {
   "cell_type": "markdown",
   "metadata": {},
   "source": [
    "> As we expect, year and quarter only have one value"
   ]
  },
  {
   "cell_type": "markdown",
   "metadata": {},
   "source": [
    "### UI wage to employer\n",
    "\n",
    "-- [back to top](#Examples-discussed-on-the-March-9-webinar)\n",
    "\n",
    "Very similar to above, but this time we will use:\n",
    "1. Employer data (\"Illinois Department of Employment Security (IDES) Employer records - 2005-2015\" [in the ADRF Explorer](https://deepdish.adrf.info/detail/adrf-000034))\n",
    "2. UI wage records (\"Illinois Department of Employment Security (IDES) Unemployment Insurance (UI) wage records - 2005-2015\" [in the ADRF Explorer](https://deepdish.adrf.info/detail/adrf-000003))\n",
    "\n",
    "Columns to join are identical, with two different field names in the wage record data:\n",
    "1. Employer Identification Number (\"ein\" in both tables)\n",
    "2. Reporting Unit Number (\"seinunit\" in both)\n",
    "3. UI Account Number (\"empr_no\" in both)\n",
    "4. Time fields \"year\" and \"quarter\" in both datasets"
   ]
  },
  {
   "cell_type": "code",
   "execution_count": null,
   "metadata": {},
   "outputs": [],
   "source": [
    "# Establish the query, we'll separate out the lines:\n",
    "\n",
    "# first the select portion let's grab \n",
    "# the hashed SSN (\"ssn\") and wages (\"wage\") from wage records, and\n",
    "# from Employer we'll get the ID and time variables above as well as NAICS code, total wages, and legal name\n",
    "query = \"SELECT e.ein, e.seinunit AS reporting_unit, e.empr_no AS ui_account, e.year, e.quarter, \"\n",
    "# note we'll use a simple \"+\" to concatenate the query, this is still part of the SELECT clause\n",
    "query += \"e.naics, e.total_wages, e.name_legal, w.ssn AS ssn_hash, w.wage AS wage \" \n",
    "# note the space at the end, it is intentional so the resulting query will be correct\n",
    "\n",
    "# the FROM clause, here we'll use the \"FROM table_a a JOIN table_b b ON a.join_field = b.join_field\" syntax\n",
    "query += \"FROM il_wage w JOIN il_qcew_employers e \"\n",
    "# separating out the ON portion as we are using 5 fields for these tables, first the ID fields\n",
    "query += \"ON e.ein = w.ein AND w.seinunit = e.seinunit AND e.empr_no = w.empr_no \"\n",
    "# and then the time fields\n",
    "query += \"AND e.year = w.year AND e.quarter = w.quarter \"\n",
    "\n",
    "# it would be possible to run like this on the entire datasets, \n",
    "# however let's add a WHERE clause to limit our results to just a single quarter\n",
    "# note that because we are joining on both these variables above with an \"inner join\", \n",
    "# we can simply include them from one dataset to limit our results\n",
    "query += \"WHERE e.year = 2013 AND e.quarter = 1 \"\n",
    "\n",
    "# and for kicks let's order by our 3 ID variables: \n",
    "# (you can use either the aliases or the original names, but if you use original names you'll have to specify\n",
    "# from what table they come)\n",
    "query += \"ORDER BY ein, reporting_unit, ui_account \"\n",
    "\n",
    "# finally let's limit to just 100 rows for this exmaple\n",
    "query += \"LIMIT 100;\"\n",
    "\n",
    "# and finally let's print out the query to see what it looks like all together:\n",
    "print(query)"
   ]
  },
  {
   "cell_type": "code",
   "execution_count": null,
   "metadata": {},
   "outputs": [],
   "source": [
    "# for consistency, check the new table exists in the databse:\n",
    "print('{} {} {}'.format(db, 'has' if conn.has_table('il_wage') else 'does NOT have', tbl2))"
   ]
  },
  {
   "cell_type": "markdown",
   "metadata": {},
   "source": [
    "> Please note that without the LIMIT for this wage record to employer join for 2013Q1 nearly 6.2 million records are returned, so you should probably do further subsetting (eg by industry) or summarization (eg average wages, count of employees, etc) before extracting the data for analysis"
   ]
  },
  {
   "cell_type": "code",
   "execution_count": null,
   "metadata": {},
   "outputs": [],
   "source": [
    "# and, get into a dataframe:\n",
    "workers = pd.read_sql(query, conn)\n",
    "\n",
    "# the info\n",
    "workers.info()"
   ]
  },
  {
   "cell_type": "code",
   "execution_count": null,
   "metadata": {},
   "outputs": [],
   "source": [
    "# and the first 10 records\n",
    "workers.head(10)"
   ]
  }
 ],
 "metadata": {
  "kernelspec": {
   "display_name": "Python 2",
   "language": "python",
   "name": "python2"
  },
  "language_info": {
   "codemirror_mode": {
    "name": "ipython",
    "version": 2
   },
   "file_extension": ".py",
   "mimetype": "text/x-python",
   "name": "python",
   "nbconvert_exporter": "python",
   "pygments_lexer": "ipython2",
   "version": "2.7.12"
  },
  "toc": {
   "nav_menu": {},
   "number_sections": true,
   "sideBar": true,
   "skip_h1_title": false,
   "toc_cell": false,
   "toc_position": {},
   "toc_section_display": "block",
   "toc_window_display": false
  }
 },
 "nbformat": 4,
 "nbformat_minor": 2
}
