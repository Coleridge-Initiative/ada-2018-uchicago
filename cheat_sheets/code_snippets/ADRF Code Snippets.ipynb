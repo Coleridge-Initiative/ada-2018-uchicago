{
 "cells": [
  {
   "cell_type": "markdown",
   "metadata": {},
   "source": [
    "<a id=\"TOC\"></a>\n",
    "## Table of Contents\n",
    "1. [Loading Libraries](#Loading-Libraries)\n",
    "2. [Pulling Data within ADRF](#Pull-Data)\n",
    "3. [Dealing with Dates](#Dates)\n",
    "4. [Unique Values in Column](#Column-Values)"
   ]
  },
  {
   "cell_type": "markdown",
   "metadata": {},
   "source": [
    "<a id=\"Loading-Libraries\"></a>\n",
    "# Loading Libraries\n",
    "\n",
    "- Back to [Table of Contents](#TOC)"
   ]
  },
  {
   "cell_type": "code",
   "execution_count": null,
   "metadata": {},
   "outputs": [],
   "source": [
    "import numpy as np # math-related functions\n",
    "import pandas as pd # pulls in data, dataframe manipulations\n",
    "import datetime # standardizes date formats\n",
    "import psycopg2 # needed for SQL database connection/pull\n",
    "import sqlalchemy # needed for SQL database connection/pull\n",
    "from __future__ import print_function, division # Python 3.x behavior"
   ]
  },
  {
   "cell_type": "markdown",
   "metadata": {},
   "source": [
    "<a id=\"Pull-Data\"></a>\n",
    "# Pulling Data from ADRF Databases\n",
    "\n",
    "- Back to [Table of Contents](#TOC)"
   ]
  },
  {
   "cell_type": "markdown",
   "metadata": {},
   "source": [
    "### Setting up the database connection"
   ]
  },
  {
   "cell_type": "code",
   "execution_count": null,
   "metadata": {},
   "outputs": [],
   "source": [
    "# connection using pysocpg2, a lower level connection package\n",
    "db_name = \"appliedda\"\n",
    "db_host = \"stuffed\"\n",
    "pgsql_connection = psycopg2.connect( host = db_host, database = db_name )"
   ]
  },
  {
   "cell_type": "code",
   "execution_count": null,
   "metadata": {},
   "outputs": [],
   "source": [
    "cur = pgsql_connection.cursor()"
   ]
  },
  {
   "cell_type": "code",
   "execution_count": null,
   "metadata": {},
   "outputs": [],
   "source": [
    "# connection using SQLAlchemy, which uses psycopg2 under the hood for postgresql connections\n",
    "pgsql_engine = sqlalchemy.create_engine( \"postgresql://10.10.2.10/appliedda\" )\n",
    "\n",
    "# alternatively we could create the DB connection from our variables above:\n",
    "# pgsql_engine = sqlalchemy.create_engine( \"postgresql://{}/{}\".format(db_host, db_name) )"
   ]
  },
  {
   "cell_type": "markdown",
   "metadata": {},
   "source": [
    "### Pulling data \n",
    "This code helps you pull data from a specific table\n",
    "- Back to [Table of Contents](#TOC)"
   ]
  },
  {
   "cell_type": "code",
   "execution_count": null,
   "metadata": {
    "collapsed": true
   },
   "outputs": [],
   "source": [
    "# This sets up the parameters of a query \n",
    "# This example query pulls 1000 records from the ildoc_admit table, only for 2005 admissions\n",
    "# adjust to your dataset/data subset \n",
    "\n",
    "query = '''SELECT * FROM {schema}.{table} \n",
    "WHERE curadmyr = 2015 LIMIT 1000;'''.format(schema='il_doc_kcmo', table=\"ildoc_admit\")"
   ]
  },
  {
   "cell_type": "code",
   "execution_count": null,
   "metadata": {},
   "outputs": [],
   "source": [
    "# this code block takes the query parameters and pulls the data\n",
    "# be sure to rename df_ildoc_admit to your table name (if needed)\n",
    "\n",
    "df_ildoc_admit = pd.read_sql( query, con = pgsql_engine )\n",
    "# note that we are using pd (pandas) to pull the data into a dataframe"
   ]
  },
  {
   "cell_type": "markdown",
   "metadata": {},
   "source": [
    "### Viewing the Data"
   ]
  },
  {
   "cell_type": "code",
   "execution_count": null,
   "metadata": {},
   "outputs": [],
   "source": [
    "# after you make the database request, it is useful to verify that the right data came back\n",
    "# .head() displays the top 5 rows of data\n",
    "# you can specify a different number of rows by adding a number in the parentheses\n",
    "\n",
    "df_ildoc_admit.head()\n",
    "# df_ildoc_admit.tail()\n",
    "# tail shows the last few lines of the dataframe"
   ]
  },
  {
   "cell_type": "code",
   "execution_count": null,
   "metadata": {},
   "outputs": [],
   "source": [
    "# provides descriptive statistics on the table\n",
    "df_ildoc_admit.describe()"
   ]
  },
  {
   "cell_type": "markdown",
   "metadata": {},
   "source": [
    "<a id=\"Dates\"></a>\n",
    "# Dealing with Dates\n",
    "Combine separate month-day-year values into new column containing dates\n",
    "- Back to [Table of Contents](#TOC)"
   ]
  },
  {
   "cell_type": "code",
   "execution_count": null,
   "metadata": {},
   "outputs": [],
   "source": [
    "#this example combines birthdate info - replace with other date-related column headings\n",
    "#note that it requires the original date columns in year - month - day order\n",
    "df_ildoc_admit['birthdate'] = df_ildoc_admit[['birthyr', 'birthmo', 'birthda']].apply(lambda s : datetime.datetime(*s), axis = 1)"
   ]
  },
  {
   "cell_type": "code",
   "execution_count": null,
   "metadata": {},
   "outputs": [],
   "source": [
    "# look at the top 5 rows of the new column\n",
    "# note that it tells you that they are of datatype datetime64\n",
    "df_ildoc_admit['birthdate'].head()"
   ]
  },
  {
   "cell_type": "markdown",
   "metadata": {},
   "source": [
    "<a id = \"Column-Values\"></a>\n",
    "# List of values in a column\n",
    "- Back to [Table of Contents](#TOC)"
   ]
  },
  {
   "cell_type": "code",
   "execution_count": null,
   "metadata": {},
   "outputs": [],
   "source": [
    "# this code displays all the unique values in the column named 'birthyr'\n",
    "# (sort = True) sorts by most common value\n",
    "# (sort = False) sorts by the value instead of frequency\n",
    "\n",
    "print(df_ildoc_admit['birthyr'].value_counts(sort = False))"
   ]
  },
  {
   "cell_type": "code",
   "execution_count": null,
   "metadata": {
    "collapsed": true
   },
   "outputs": [],
   "source": []
  }
 ],
 "metadata": {
  "anaconda-cloud": {},
  "kernelspec": {
   "display_name": "Python 2",
   "language": "python",
   "name": "python2"
  },
  "language_info": {
   "codemirror_mode": {
    "name": "ipython",
    "version": 2
   },
   "file_extension": ".py",
   "mimetype": "text/x-python",
   "name": "python",
   "nbconvert_exporter": "python",
   "pygments_lexer": "ipython2",
   "version": "2.7.12"
  },
  "toc": {
   "nav_menu": {},
   "number_sections": true,
   "sideBar": true,
   "skip_h1_title": false,
   "toc_cell": false,
   "toc_position": {},
   "toc_section_display": "block",
   "toc_window_display": false
  }
 },
 "nbformat": 4,
 "nbformat_minor": 1
}
